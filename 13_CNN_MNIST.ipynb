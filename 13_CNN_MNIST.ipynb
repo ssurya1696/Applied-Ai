{
 "cells": [
  {
   "cell_type": "code",
   "execution_count": 2,
   "metadata": {},
   "outputs": [],
   "source": [
    "# Credits: https://github.com/keras-team/keras/blob/master/examples/mnist_cnn.py\n",
    "\n",
    "\n",
    "from __future__ import print_function\n",
    "import keras\n",
    "from keras.datasets import mnist\n",
    "from keras.models import Sequential\n",
    "from keras.layers import Dense, Dropout, Flatten\n",
    "from keras.layers import Conv2D, MaxPooling2D\n",
    "from keras import backend as K\n",
    "from keras.initializers import he_normal\n",
    "from keras.layers.normalization import BatchNormalization"
   ]
  },
  {
   "cell_type": "code",
   "execution_count": 3,
   "metadata": {},
   "outputs": [],
   "source": [
    "batch_size = 128\n",
    "num_classes = 10\n",
    "epochs = 12\n",
    "epochs_v2 = 20"
   ]
  },
  {
   "cell_type": "code",
   "execution_count": 4,
   "metadata": {},
   "outputs": [],
   "source": [
    "# input image dimensions\n",
    "img_rows, img_cols = 28, 28\n",
    "\n",
    "# the data, split between train and test sets\n",
    "(x_train, y_train), (x_test, y_test) = mnist.load_data()"
   ]
  },
  {
   "cell_type": "code",
   "execution_count": 5,
   "metadata": {},
   "outputs": [],
   "source": [
    "if K.image_data_format() == 'channels_first':\n",
    "    x_train = x_train.reshape(x_train.shape[0], 1, img_rows, img_cols)\n",
    "    x_test = x_test.reshape(x_test.shape[0], 1, img_rows, img_cols)\n",
    "    input_shape = (1, img_rows, img_cols)\n",
    "else:\n",
    "    x_train = x_train.reshape(x_train.shape[0], img_rows, img_cols, 1)\n",
    "    x_test = x_test.reshape(x_test.shape[0], img_rows, img_cols, 1)\n",
    "    input_shape = (img_rows, img_cols, 1)"
   ]
  },
  {
   "cell_type": "code",
   "execution_count": 6,
   "metadata": {},
   "outputs": [
    {
     "name": "stdout",
     "output_type": "stream",
     "text": [
      "x_train shape: (60000, 28, 28, 1)\n",
      "60000 train samples\n",
      "10000 test samples\n"
     ]
    }
   ],
   "source": [
    "x_train = x_train.astype('float32')\n",
    "x_test = x_test.astype('float32')\n",
    "x_train /= 255\n",
    "x_test /= 255\n",
    "print('x_train shape:', x_train.shape)\n",
    "print(x_train.shape[0], 'train samples')\n",
    "print(x_test.shape[0], 'test samples')"
   ]
  },
  {
   "cell_type": "code",
   "execution_count": 7,
   "metadata": {},
   "outputs": [],
   "source": [
    "# convert class vectors to binary class matrices\n",
    "y_train = keras.utils.to_categorical(y_train, num_classes)\n",
    "y_test = keras.utils.to_categorical(y_test, num_classes)"
   ]
  },
  {
   "cell_type": "code",
   "execution_count": 8,
   "metadata": {},
   "outputs": [],
   "source": [
    "import matplotlib.pyplot as plt\n",
    "import numpy as np\n",
    "# https://gist.github.com/greydanus/f6eee59eaf1d90fcb3b534a25362cea4\n",
    "# https://stackoverflow.com/a/14434334\n",
    "# this function is used to update the plots for each epoch and error\n",
    "def plt_dynamic(x, vy, ty):\n",
    "  fig = plt.figure( )\n",
    "  plt.plot(x, vy, 'b', label=\"Validation Loss\")\n",
    "  plt.plot(x, ty, 'r', label=\"Train Loss\")\n",
    "  plt.xlabel('Epochs') \n",
    "  plt.ylabel('Categorical Crossentropy Loss')\n",
    "  plt.legend()\n",
    "  plt.grid()\n",
    "  plt.show()"
   ]
  },
  {
   "cell_type": "markdown",
   "metadata": {},
   "source": [
    "## CNN with three layers(32-64-128)"
   ]
  },
  {
   "cell_type": "code",
   "execution_count": 11,
   "metadata": {},
   "outputs": [
    {
     "name": "stdout",
     "output_type": "stream",
     "text": [
      "Model: \"sequential_2\"\n",
      "_________________________________________________________________\n",
      "Layer (type)                 Output Shape              Param #   \n",
      "=================================================================\n",
      "conv2d_4 (Conv2D)            (None, 26, 26, 32)        320       \n",
      "_________________________________________________________________\n",
      "conv2d_5 (Conv2D)            (None, 24, 24, 64)        18496     \n",
      "_________________________________________________________________\n",
      "dropout_4 (Dropout)          (None, 24, 24, 64)        0         \n",
      "_________________________________________________________________\n",
      "conv2d_6 (Conv2D)            (None, 22, 22, 128)       73856     \n",
      "_________________________________________________________________\n",
      "max_pooling2d_2 (MaxPooling2 (None, 11, 11, 128)       0         \n",
      "_________________________________________________________________\n",
      "dropout_5 (Dropout)          (None, 11, 11, 128)       0         \n",
      "_________________________________________________________________\n",
      "flatten_2 (Flatten)          (None, 15488)             0         \n",
      "_________________________________________________________________\n",
      "dense_3 (Dense)              (None, 256)               3965184   \n",
      "_________________________________________________________________\n",
      "dropout_6 (Dropout)          (None, 256)               0         \n",
      "_________________________________________________________________\n",
      "dense_4 (Dense)              (None, 10)                2570      \n",
      "=================================================================\n",
      "Total params: 4,060,426\n",
      "Trainable params: 4,060,426\n",
      "Non-trainable params: 0\n",
      "_________________________________________________________________\n",
      "None\n"
     ]
    }
   ],
   "source": [
    "convnet3=Sequential() # Initializing the model\n",
    "\n",
    "# First ConvNet\n",
    "convnet3.add(Conv2D(32,kernel_size=(3,3),\n",
    "                    activation='relu',\n",
    "                    input_shape=input_shape))\n",
    "# Second ConvNet\n",
    "\n",
    "convnet3.add(Conv2D(64,kernel_size=(3,3),\n",
    "                    activation='relu'))\n",
    "\n",
    "convnet3.add(Dropout(0.25))\n",
    "\n",
    "# Third ConvNet\n",
    "\n",
    "\n",
    "convnet3.add(Conv2D(128,kernel_size=(3,3),\n",
    "                   activation='relu'))\n",
    "#maxpooling by (2,2 ) ,dropout,flattening\n",
    "convnet3.add(MaxPooling2D(pool_size=(2,2)))\n",
    "convnet3.add(Dropout(0.25))\n",
    "convnet3.add(Flatten())\n",
    "\n",
    "#hidden_layer\n",
    "convnet3.add(Dense(256,\n",
    "                   activation='relu',\n",
    "                   kernel_initializer=he_normal(seed=None)))\n",
    "convnet3.add(Dropout(0.5))\n",
    "convnet3.add(Dense(num_classes,activation='softmax'))\n",
    "print(convnet3.summary())"
   ]
  },
  {
   "cell_type": "code",
   "execution_count": 12,
   "metadata": {
    "scrolled": false
   },
   "outputs": [
    {
     "name": "stderr",
     "output_type": "stream",
     "text": [
      "W0908 12:50:43.899175  8156 deprecation_wrapper.py:119] From C:\\Anaconda\\lib\\site-packages\\keras\\optimizers.py:793: The name tf.train.Optimizer is deprecated. Please use tf.compat.v1.train.Optimizer instead.\n",
      "\n",
      "W0908 12:50:44.885874  8156 deprecation.py:323] From C:\\Anaconda\\lib\\site-packages\\tensorflow\\python\\ops\\math_grad.py:1250: add_dispatch_support.<locals>.wrapper (from tensorflow.python.ops.array_ops) is deprecated and will be removed in a future version.\n",
      "Instructions for updating:\n",
      "Use tf.where in 2.0, which has the same broadcast rule as np.where\n"
     ]
    },
    {
     "name": "stdout",
     "output_type": "stream",
     "text": [
      "Train on 60000 samples, validate on 10000 samples\n",
      "Epoch 1/12\n",
      "60000/60000 [==============================] - 460s 8ms/step - loss: 0.1739 - acc: 0.9465 - val_loss: 0.0487 - val_acc: 0.9833\n",
      "Epoch 2/12\n",
      "60000/60000 [==============================] - 437s 7ms/step - loss: 0.0622 - acc: 0.9810 - val_loss: 0.0290 - val_acc: 0.9906\n",
      "Epoch 3/12\n",
      "60000/60000 [==============================] - 434s 7ms/step - loss: 0.0451 - acc: 0.9859 - val_loss: 0.0265 - val_acc: 0.9909\n",
      "Epoch 4/12\n",
      "60000/60000 [==============================] - 433s 7ms/step - loss: 0.0369 - acc: 0.9886 - val_loss: 0.0270 - val_acc: 0.9914\n",
      "Epoch 5/12\n",
      "60000/60000 [==============================] - 438s 7ms/step - loss: 0.0305 - acc: 0.9901 - val_loss: 0.0283 - val_acc: 0.9908\n",
      "Epoch 6/12\n",
      "60000/60000 [==============================] - 431s 7ms/step - loss: 0.0265 - acc: 0.9914 - val_loss: 0.0244 - val_acc: 0.9923\n",
      "Epoch 7/12\n",
      "60000/60000 [==============================] - 431s 7ms/step - loss: 0.0231 - acc: 0.9928 - val_loss: 0.0237 - val_acc: 0.9924\n",
      "Epoch 8/12\n",
      "60000/60000 [==============================] - 433s 7ms/step - loss: 0.0213 - acc: 0.9932 - val_loss: 0.0229 - val_acc: 0.9932\n",
      "Epoch 9/12\n",
      "60000/60000 [==============================] - 430s 7ms/step - loss: 0.0175 - acc: 0.9945 - val_loss: 0.0241 - val_acc: 0.9929\n",
      "Epoch 10/12\n",
      "60000/60000 [==============================] - 430s 7ms/step - loss: 0.0174 - acc: 0.9944 - val_loss: 0.0234 - val_acc: 0.9927\n",
      "Epoch 11/12\n",
      "60000/60000 [==============================] - 430s 7ms/step - loss: 0.0140 - acc: 0.9951 - val_loss: 0.0240 - val_acc: 0.9930\n",
      "Epoch 12/12\n",
      "60000/60000 [==============================] - 430s 7ms/step - loss: 0.0146 - acc: 0.9950 - val_loss: 0.0257 - val_acc: 0.9926\n"
     ]
    }
   ],
   "source": [
    "#Model compilation\n",
    "convnet3.compile(optimizer=keras.optimizers.Adam(),\n",
    "                loss=keras.losses.categorical_crossentropy,\n",
    "                metrics=['accuracy'])\n",
    "convnet3_history=convnet3.fit(x_train,y_train,batch_size=batch_size,\n",
    "                             epochs=epochs,\n",
    "                             verbose=1,\n",
    "                             validation_data=(x_test, y_test))"
   ]
  },
  {
   "cell_type": "code",
   "execution_count": 13,
   "metadata": {},
   "outputs": [
    {
     "name": "stdout",
     "output_type": "stream",
     "text": [
      "test score : 0.02572378181961908\n",
      "test sccuracy : 0.9926\n"
     ]
    },
    {
     "data": {
      "image/png": "[encoded data removed]",
      "text/plain": [
       "<Figure size 432x288 with 1 Axes>"
      ]
     },
     "metadata": {},
     "output_type": "display_data"
    }
   ],
   "source": [
    "#evaluating model\n",
    "\n",
    "score=convnet3.evaluate(x_test,y_test,verbose=0)\n",
    "test_score3=score[0]\n",
    "test_accuracy3=score[1]\n",
    "train_accuracy3=max(convnet3_history.history['acc'])\n",
    "print('test score :',test_score3)\n",
    "print('test sccuracy :',test_accuracy3)\n",
    "# error plot\n",
    "x=list(range(1,epochs+1))\n",
    "vy=convnet3_history.history['val_loss'] \n",
    "ty=convnet3_history.history['loss'] \n",
    "plt_dynamic(x, vy, ty)"
   ]
  },
  {
   "cell_type": "markdown",
   "metadata": {},
   "source": [
    "### Without dropout and BatchNormalization kernel size (3,3)"
   ]
  },
  {
   "cell_type": "code",
   "execution_count": 10,
   "metadata": {},
   "outputs": [
    {
     "name": "stdout",
     "output_type": "stream",
     "text": [
      "Model: \"sequential_2\"\n",
      "_________________________________________________________________\n",
      "Layer (type)                 Output Shape              Param #   \n",
      "=================================================================\n",
      "conv2d_4 (Conv2D)            (None, 26, 26, 32)        320       \n",
      "_________________________________________________________________\n",
      "conv2d_5 (Conv2D)            (None, 24, 24, 64)        18496     \n",
      "_________________________________________________________________\n",
      "max_pooling2d_3 (MaxPooling2 (None, 12, 12, 64)        0         \n",
      "_________________________________________________________________\n",
      "conv2d_6 (Conv2D)            (None, 10, 10, 128)       73856     \n",
      "_________________________________________________________________\n",
      "max_pooling2d_4 (MaxPooling2 (None, 5, 5, 128)         0         \n",
      "_________________________________________________________________\n",
      "flatten_2 (Flatten)          (None, 3200)              0         \n",
      "_________________________________________________________________\n",
      "dense_3 (Dense)              (None, 256)               819456    \n",
      "_________________________________________________________________\n",
      "dense_4 (Dense)              (None, 10)                2570      \n",
      "=================================================================\n",
      "Total params: 914,698\n",
      "Trainable params: 914,698\n",
      "Non-trainable params: 0\n",
      "_________________________________________________________________\n",
      "None\n"
     ]
    }
   ],
   "source": [
    "convnet3_1=Sequential() # Initializing the model\n",
    "\n",
    "# First ConvNet\n",
    "convnet3_1.add(Conv2D(32,kernel_size=(3,3),\n",
    "                    activation='relu',\n",
    "                    input_shape=input_shape))\n",
    "# Second ConvNet\n",
    "\n",
    "convnet3_1.add(Conv2D(64,kernel_size=(3,3),\n",
    "                    activation='relu'))\n",
    "#maxpooling by (2,2 ) ,dropout,flattening\n",
    "convnet3_1.add(MaxPooling2D(pool_size=(2,2)))\n",
    "\n",
    "# Third ConvNet\n",
    "\n",
    "convnet3_1.add(Conv2D(128,kernel_size=(3,3),\n",
    "                   activation='relu'))\n",
    "#maxpooling by (2,2 ) ,dropout,flattening\n",
    "convnet3_1.add(MaxPooling2D(pool_size=(2,2)))\n",
    "convnet3_1.add(Flatten())\n",
    "\n",
    "#hidden_layer\n",
    "convnet3_1.add(Dense(256,\n",
    "                   activation='relu',\n",
    "                   kernel_initializer=he_normal(seed=None)))\n",
    "convnet3_1.add(Dense(num_classes,activation='softmax'))\n",
    "print(convnet3_1.summary())"
   ]
  },
  {
   "cell_type": "code",
   "execution_count": 11,
   "metadata": {},
   "outputs": [
    {
     "name": "stderr",
     "output_type": "stream",
     "text": [
      "W0914 12:10:01.682247 10944 deprecation_wrapper.py:119] From C:\\Anaconda\\lib\\site-packages\\keras\\optimizers.py:793: The name tf.train.Optimizer is deprecated. Please use tf.compat.v1.train.Optimizer instead.\n",
      "\n",
      "W0914 12:10:01.694217 10944 deprecation_wrapper.py:119] From C:\\Anaconda\\lib\\site-packages\\keras\\backend\\tensorflow_backend.py:3576: The name tf.log is deprecated. Please use tf.math.log instead.\n",
      "\n",
      "W0914 12:10:02.713346 10944 deprecation.py:323] From C:\\Anaconda\\lib\\site-packages\\tensorflow\\python\\ops\\math_grad.py:1250: add_dispatch_support.<locals>.wrapper (from tensorflow.python.ops.array_ops) is deprecated and will be removed in a future version.\n",
      "Instructions for updating:\n",
      "Use tf.where in 2.0, which has the same broadcast rule as np.where\n"
     ]
    },
    {
     "name": "stdout",
     "output_type": "stream",
     "text": [
      "Train on 60000 samples, validate on 10000 samples\n",
      "Epoch 1/20\n",
      "60000/60000 [==============================] - 198s 3ms/step - loss: 0.1804 - acc: 0.9441 - val_loss: 0.0441 - val_acc: 0.9858\n",
      "Epoch 2/20\n",
      "60000/60000 [==============================] - 194s 3ms/step - loss: 0.0407 - acc: 0.9873 - val_loss: 0.0356 - val_acc: 0.9884\n",
      "Epoch 3/20\n",
      "60000/60000 [==============================] - 194s 3ms/step - loss: 0.0260 - acc: 0.9918 - val_loss: 0.0236 - val_acc: 0.9925\n",
      "Epoch 4/20\n",
      "60000/60000 [==============================] - 185s 3ms/step - loss: 0.0175 - acc: 0.9947 - val_loss: 0.0244 - val_acc: 0.9920\n",
      "Epoch 5/20\n",
      "60000/60000 [==============================] - 185s 3ms/step - loss: 0.0135 - acc: 0.9957 - val_loss: 0.0263 - val_acc: 0.9924\n",
      "Epoch 6/20\n",
      "60000/60000 [==============================] - 186s 3ms/step - loss: 0.0090 - acc: 0.9973 - val_loss: 0.0307 - val_acc: 0.9915\n",
      "Epoch 7/20\n",
      "60000/60000 [==============================] - 181s 3ms/step - loss: 0.0070 - acc: 0.9978 - val_loss: 0.0284 - val_acc: 0.9926\n",
      "Epoch 8/20\n",
      "60000/60000 [==============================] - 184s 3ms/step - loss: 0.0048 - acc: 0.9987 - val_loss: 0.0291 - val_acc: 0.9928\n",
      "Epoch 9/20\n",
      "60000/60000 [==============================] - 185s 3ms/step - loss: 0.0035 - acc: 0.9989 - val_loss: 0.0319 - val_acc: 0.9919\n",
      "Epoch 10/20\n",
      "60000/60000 [==============================] - 185s 3ms/step - loss: 0.0026 - acc: 0.9992 - val_loss: 0.0276 - val_acc: 0.9936\n",
      "Epoch 11/20\n",
      "60000/60000 [==============================] - 183s 3ms/step - loss: 0.0017 - acc: 0.9995 - val_loss: 0.0357 - val_acc: 0.9922\n",
      "Epoch 12/20\n",
      "60000/60000 [==============================] - 183s 3ms/step - loss: 0.0015 - acc: 0.9996 - val_loss: 0.0319 - val_acc: 0.9939\n",
      "Epoch 13/20\n",
      "60000/60000 [==============================] - 178s 3ms/step - loss: 7.0861e-04 - acc: 0.9998 - val_loss: 0.0343 - val_acc: 0.9932\n",
      "Epoch 14/20\n",
      "60000/60000 [==============================] - 177s 3ms/step - loss: 8.3525e-04 - acc: 0.9998 - val_loss: 0.0343 - val_acc: 0.9936\n",
      "Epoch 15/20\n",
      "60000/60000 [==============================] - 174s 3ms/step - loss: 4.5921e-04 - acc: 0.9999 - val_loss: 0.0335 - val_acc: 0.9941\n",
      "Epoch 16/20\n",
      "60000/60000 [==============================] - 174s 3ms/step - loss: 3.8605e-04 - acc: 1.0000 - val_loss: 0.0359 - val_acc: 0.9937\n",
      "Epoch 17/20\n",
      "60000/60000 [==============================] - 172s 3ms/step - loss: 2.8698e-04 - acc: 1.0000 - val_loss: 0.0365 - val_acc: 0.9940\n",
      "Epoch 18/20\n",
      "60000/60000 [==============================] - 174s 3ms/step - loss: 2.7991e-04 - acc: 1.0000 - val_loss: 0.0368 - val_acc: 0.9940\n",
      "Epoch 19/20\n",
      "60000/60000 [==============================] - 172s 3ms/step - loss: 2.7739e-04 - acc: 1.0000 - val_loss: 0.0366 - val_acc: 0.9943\n",
      "Epoch 20/20\n",
      "60000/60000 [==============================] - 173s 3ms/step - loss: 2.7485e-04 - acc: 1.0000 - val_loss: 0.0369 - val_acc: 0.9942\n"
     ]
    }
   ],
   "source": [
    "#Model compilation\n",
    "convnet3_1.compile(optimizer=keras.optimizers.Adadelta(),\n",
    "                loss=keras.losses.categorical_crossentropy,\n",
    "                metrics=['accuracy'])\n",
    "convnet3_1_history=convnet3_1.fit(x_train,y_train,batch_size=batch_size,\n",
    "                             epochs=epochs_v2,\n",
    "                             verbose=1,\n",
    "                             validation_data=(x_test, y_test))"
   ]
  },
  {
   "cell_type": "code",
   "execution_count": 13,
   "metadata": {},
   "outputs": [
    {
     "name": "stdout",
     "output_type": "stream",
     "text": [
      "test score : 0.03690634640476892\n",
      "test sccuracy : 0.9942\n"
     ]
    },
    {
     "data": {
      "image/png": "[encoded data removed]",
      "text/plain": [
       "<Figure size 432x288 with 1 Axes>"
      ]
     },
     "metadata": {},
     "output_type": "display_data"
    }
   ],
   "source": [
    "#evaluating model\n",
    "\n",
    "score=convnet3_1.evaluate(x_test,y_test,verbose=0)\n",
    "test_score3_1=score[0]\n",
    "test_accuracy3_1=score[1]\n",
    "train_accuracy3_1=max(convnet3_1_history.history['acc'])\n",
    "print('test score :',test_score3_1)\n",
    "print('test sccuracy :',test_accuracy3_1)\n",
    "# error plot\n",
    "x=list(range(1,epochs_v2+1))\n",
    "vy=convnet3_1_history.history['val_loss'] \n",
    "ty=convnet3_1_history.history['loss'] \n",
    "plt_dynamic(x, vy, ty)"
   ]
  },
  {
   "cell_type": "markdown",
   "metadata": {},
   "source": [
    "### With dropout rate(0.5)"
   ]
  },
  {
   "cell_type": "code",
   "execution_count": 14,
   "metadata": {},
   "outputs": [
    {
     "name": "stderr",
     "output_type": "stream",
     "text": [
      "W0914 13:29:53.814382 10944 deprecation.py:506] From C:\\Anaconda\\lib\\site-packages\\keras\\backend\\tensorflow_backend.py:3733: calling dropout (from tensorflow.python.ops.nn_ops) with keep_prob is deprecated and will be removed in a future version.\n",
      "Instructions for updating:\n",
      "Please use `rate` instead of `keep_prob`. Rate should be set to `rate = 1 - keep_prob`.\n"
     ]
    },
    {
     "name": "stdout",
     "output_type": "stream",
     "text": [
      "Model: \"sequential_3\"\n",
      "_________________________________________________________________\n",
      "Layer (type)                 Output Shape              Param #   \n",
      "=================================================================\n",
      "conv2d_7 (Conv2D)            (None, 26, 26, 32)        320       \n",
      "_________________________________________________________________\n",
      "conv2d_8 (Conv2D)            (None, 24, 24, 64)        18496     \n",
      "_________________________________________________________________\n",
      "dropout_1 (Dropout)          (None, 24, 24, 64)        0         \n",
      "_________________________________________________________________\n",
      "max_pooling2d_5 (MaxPooling2 (None, 12, 12, 64)        0         \n",
      "_________________________________________________________________\n",
      "conv2d_9 (Conv2D)            (None, 10, 10, 128)       73856     \n",
      "_________________________________________________________________\n",
      "dropout_2 (Dropout)          (None, 10, 10, 128)       0         \n",
      "_________________________________________________________________\n",
      "max_pooling2d_6 (MaxPooling2 (None, 5, 5, 128)         0         \n",
      "_________________________________________________________________\n",
      "flatten_3 (Flatten)          (None, 3200)              0         \n",
      "_________________________________________________________________\n",
      "dense_5 (Dense)              (None, 256)               819456    \n",
      "_________________________________________________________________\n",
      "dense_6 (Dense)              (None, 10)                2570      \n",
      "=================================================================\n",
      "Total params: 914,698\n",
      "Trainable params: 914,698\n",
      "Non-trainable params: 0\n",
      "_________________________________________________________________\n",
      "None\n"
     ]
    }
   ],
   "source": [
    "convnet3_2=Sequential() # Initializing the model\n",
    "\n",
    "# First ConvNet\n",
    "convnet3_2.add(Conv2D(32,kernel_size=(3,3),\n",
    "                    activation='relu',\n",
    "                    input_shape=input_shape))\n",
    "# Second ConvNet\n",
    "\n",
    "convnet3_2.add(Conv2D(64,kernel_size=(3,3),\n",
    "                    activation='relu'))\n",
    "convnet3_2.add(Dropout(0.5))\n",
    "#maxpooling by (2,2 ) ,dropout,flattening\n",
    "convnet3_2.add(MaxPooling2D(pool_size=(2,2)))\n",
    "\n",
    "# Third ConvNet\n",
    "\n",
    "convnet3_2.add(Conv2D(128,kernel_size=(3,3),\n",
    "                   activation='relu'))\n",
    "convnet3_2.add(Dropout(0.5))\n",
    "\n",
    "#maxpooling by (2,2 ) ,dropout,flattening\n",
    "convnet3_2.add(MaxPooling2D(pool_size=(2,2)))\n",
    "convnet3_2.add(Flatten())\n",
    "\n",
    "#hidden_layer\n",
    "convnet3_2.add(Dense(256,\n",
    "                   activation='relu',\n",
    "                   kernel_initializer=he_normal(seed=None)))\n",
    "convnet3_2.add(Dense(num_classes,activation='softmax'))\n",
    "print(convnet3_2.summary())"
   ]
  },
  {
   "cell_type": "code",
   "execution_count": 15,
   "metadata": {},
   "outputs": [
    {
     "name": "stdout",
     "output_type": "stream",
     "text": [
      "Train on 60000 samples, validate on 10000 samples\n",
      "Epoch 1/20\n",
      "60000/60000 [==============================] - 267s 4ms/step - loss: 0.1833 - acc: 0.9431 - val_loss: 0.1118 - val_acc: 0.9854\n",
      "Epoch 2/20\n",
      "60000/60000 [==============================] - 264s 4ms/step - loss: 0.0480 - acc: 0.9853 - val_loss: 0.0940 - val_acc: 0.9915\n",
      "Epoch 3/20\n",
      "60000/60000 [==============================] - 282s 5ms/step - loss: 0.0341 - acc: 0.9892 - val_loss: 0.0576 - val_acc: 0.9912\n",
      "Epoch 4/20\n",
      "60000/60000 [==============================] - 270s 5ms/step - loss: 0.0281 - acc: 0.9910 - val_loss: 0.0479 - val_acc: 0.9926\n",
      "Epoch 5/20\n",
      "60000/60000 [==============================] - 245s 4ms/step - loss: 0.0225 - acc: 0.9928 - val_loss: 0.0499 - val_acc: 0.9921\n",
      "Epoch 6/20\n",
      "60000/60000 [==============================] - 237s 4ms/step - loss: 0.0199 - acc: 0.9938 - val_loss: 0.0418 - val_acc: 0.9933\n",
      "Epoch 7/20\n",
      "60000/60000 [==============================] - 236s 4ms/step - loss: 0.0164 - acc: 0.9947 - val_loss: 0.0426 - val_acc: 0.9923\n",
      "Epoch 8/20\n",
      "60000/60000 [==============================] - 236s 4ms/step - loss: 0.0146 - acc: 0.9952 - val_loss: 0.0357 - val_acc: 0.9913\n",
      "Epoch 9/20\n",
      "60000/60000 [==============================] - 237s 4ms/step - loss: 0.0137 - acc: 0.9954 - val_loss: 0.0291 - val_acc: 0.9929\n",
      "Epoch 10/20\n",
      "60000/60000 [==============================] - 277s 5ms/step - loss: 0.0119 - acc: 0.9963 - val_loss: 0.0305 - val_acc: 0.9928\n",
      "Epoch 11/20\n",
      "60000/60000 [==============================] - 259s 4ms/step - loss: 0.0114 - acc: 0.9965 - val_loss: 0.0234 - val_acc: 0.9942\n",
      "Epoch 12/20\n",
      "60000/60000 [==============================] - 254s 4ms/step - loss: 0.0095 - acc: 0.9969 - val_loss: 0.0201 - val_acc: 0.9948\n",
      "Epoch 13/20\n",
      "60000/60000 [==============================] - 266s 4ms/step - loss: 0.0080 - acc: 0.9975 - val_loss: 0.0245 - val_acc: 0.9928\n",
      "Epoch 14/20\n",
      "60000/60000 [==============================] - 260s 4ms/step - loss: 0.0080 - acc: 0.9977 - val_loss: 0.0209 - val_acc: 0.9939\n",
      "Epoch 15/20\n",
      "60000/60000 [==============================] - 258s 4ms/step - loss: 0.0078 - acc: 0.9976 - val_loss: 0.0190 - val_acc: 0.9949\n",
      "Epoch 16/20\n",
      "60000/60000 [==============================] - 265s 4ms/step - loss: 0.0068 - acc: 0.9979 - val_loss: 0.0187 - val_acc: 0.9946\n",
      "Epoch 17/20\n",
      "60000/60000 [==============================] - 257s 4ms/step - loss: 0.0068 - acc: 0.9978 - val_loss: 0.0176 - val_acc: 0.9947\n",
      "Epoch 18/20\n",
      "60000/60000 [==============================] - 262s 4ms/step - loss: 0.0058 - acc: 0.9980 - val_loss: 0.0189 - val_acc: 0.9943\n",
      "Epoch 19/20\n",
      "60000/60000 [==============================] - 269s 4ms/step - loss: 0.0058 - acc: 0.9983 - val_loss: 0.0165 - val_acc: 0.9948\n",
      "Epoch 20/20\n",
      "60000/60000 [==============================] - 252s 4ms/step - loss: 0.0054 - acc: 0.9984 - val_loss: 0.0217 - val_acc: 0.9935\n"
     ]
    }
   ],
   "source": [
    "#Model compilation\n",
    "convnet3_2.compile(optimizer=keras.optimizers.Adadelta(),\n",
    "                loss=keras.losses.categorical_crossentropy,\n",
    "                metrics=['accuracy'])\n",
    "convnet3_2_history=convnet3_2.fit(x_train,y_train,batch_size=batch_size,\n",
    "                             epochs=epochs_v2,\n",
    "                             verbose=1,\n",
    "                             validation_data=(x_test, y_test))"
   ]
  },
  {
   "cell_type": "code",
   "execution_count": 16,
   "metadata": {},
   "outputs": [
    {
     "name": "stdout",
     "output_type": "stream",
     "text": [
      "test score : 0.021739475865848363\n",
      "test sccuracy : 0.9935\n"
     ]
    },
    {
     "data": {
      "image/png": "[encoded data removed]",
      "text/plain": [
       "<Figure size 432x288 with 1 Axes>"
      ]
     },
     "metadata": {},
     "output_type": "display_data"
    }
   ],
   "source": [
    "#evaluating model\n",
    "\n",
    "score=convnet3_2.evaluate(x_test,y_test,verbose=0)\n",
    "test_score3_2=score[0]\n",
    "test_accuracy3_2=score[1]\n",
    "train_accuracy3_2=max(convnet3_2_history.history['acc'])\n",
    "print('test score :',test_score3_2)\n",
    "print('test sccuracy :',test_accuracy3_2)\n",
    "# error plot\n",
    "x=list(range(1,epochs_v2+1))\n",
    "vy=convnet3_2_history.history['val_loss'] \n",
    "ty=convnet3_2_history.history['loss'] \n",
    "plt_dynamic(x, vy, ty)"
   ]
  },
  {
   "cell_type": "markdown",
   "metadata": {},
   "source": [
    "### With dropout(0.5) and BatchNormalization"
   ]
  },
  {
   "cell_type": "code",
   "execution_count": 17,
   "metadata": {},
   "outputs": [
    {
     "name": "stderr",
     "output_type": "stream",
     "text": [
      "W0914 15:02:29.280371 10944 deprecation_wrapper.py:119] From C:\\Anaconda\\lib\\site-packages\\keras\\backend\\tensorflow_backend.py:2041: The name tf.nn.fused_batch_norm is deprecated. Please use tf.compat.v1.nn.fused_batch_norm instead.\n",
      "\n"
     ]
    },
    {
     "name": "stdout",
     "output_type": "stream",
     "text": [
      "Model: \"sequential_4\"\n",
      "_________________________________________________________________\n",
      "Layer (type)                 Output Shape              Param #   \n",
      "=================================================================\n",
      "conv2d_10 (Conv2D)           (None, 26, 26, 32)        320       \n",
      "_________________________________________________________________\n",
      "conv2d_11 (Conv2D)           (None, 24, 24, 64)        18496     \n",
      "_________________________________________________________________\n",
      "dropout_3 (Dropout)          (None, 24, 24, 64)        0         \n",
      "_________________________________________________________________\n",
      "batch_normalization_1 (Batch (None, 24, 24, 64)        256       \n",
      "_________________________________________________________________\n",
      "max_pooling2d_7 (MaxPooling2 (None, 12, 12, 64)        0         \n",
      "_________________________________________________________________\n",
      "conv2d_12 (Conv2D)           (None, 10, 10, 128)       73856     \n",
      "_________________________________________________________________\n",
      "dropout_4 (Dropout)          (None, 10, 10, 128)       0         \n",
      "_________________________________________________________________\n",
      "batch_normalization_2 (Batch (None, 10, 10, 128)       512       \n",
      "_________________________________________________________________\n",
      "max_pooling2d_8 (MaxPooling2 (None, 5, 5, 128)         0         \n",
      "_________________________________________________________________\n",
      "flatten_4 (Flatten)          (None, 3200)              0         \n",
      "_________________________________________________________________\n",
      "dense_7 (Dense)              (None, 256)               819456    \n",
      "_________________________________________________________________\n",
      "dense_8 (Dense)              (None, 10)                2570      \n",
      "=================================================================\n",
      "Total params: 915,466\n",
      "Trainable params: 915,082\n",
      "Non-trainable params: 384\n",
      "_________________________________________________________________\n",
      "None\n"
     ]
    }
   ],
   "source": [
    "convnet3_3=Sequential() # Initializing the model\n",
    "\n",
    "# First ConvNet\n",
    "convnet3_3.add(Conv2D(32,kernel_size=(3,3),\n",
    "                    activation='sigmoid',\n",
    "                    input_shape=input_shape))\n",
    "# Second ConvNet\n",
    "\n",
    "convnet3_3.add(Conv2D(64,kernel_size=(3,3),\n",
    "                    activation='sigmoid'))\n",
    "convnet3_3.add(Dropout(0.5))\n",
    "convnet3_3.add(BatchNormalization())\n",
    "\n",
    "\n",
    "#maxpooling by (2,2 ) ,dropout,flattening\n",
    "convnet3_3.add(MaxPooling2D(pool_size=(2,2)))\n",
    "\n",
    "# Third ConvNet\n",
    "\n",
    "convnet3_3.add(Conv2D(128,kernel_size=(3,3),\n",
    "                   activation='sigmoid'))\n",
    "convnet3_3.add(Dropout(0.5))\n",
    "convnet3_3.add(BatchNormalization())\n",
    "\n",
    "\n",
    "#maxpooling by (2,2 ) ,dropout,flattening\n",
    "convnet3_3.add(MaxPooling2D(pool_size=(2,2)))\n",
    "convnet3_3.add(Flatten())\n",
    "\n",
    "#hidden_layer\n",
    "convnet3_3.add(Dense(256,\n",
    "                   activation='relu',\n",
    "                   kernel_initializer=he_normal(seed=None)))\n",
    "convnet3_3.add(Dense(num_classes,activation='softmax'))\n",
    "print(convnet3_3.summary())"
   ]
  },
  {
   "cell_type": "code",
   "execution_count": 19,
   "metadata": {},
   "outputs": [
    {
     "name": "stdout",
     "output_type": "stream",
     "text": [
      "Train on 60000 samples, validate on 10000 samples\n",
      "Epoch 1/20\n",
      "60000/60000 [==============================] - 574s 10ms/step - loss: 12.9474 - acc: 0.1947 - val_loss: 13.6816 - val_acc: 0.1126\n",
      "Epoch 2/20\n",
      "60000/60000 [==============================] - 574s 10ms/step - loss: 12.9507 - acc: 0.1959 - val_loss: 13.7421 - val_acc: 0.1139\n",
      "Epoch 3/20\n",
      "60000/60000 [==============================] - 571s 10ms/step - loss: 12.9496 - acc: 0.1962 - val_loss: 13.6505 - val_acc: 0.1190\n",
      "Epoch 4/20\n",
      "60000/60000 [==============================] - 571s 10ms/step - loss: 12.9493 - acc: 0.1964 - val_loss: 13.4547 - val_acc: 0.1338\n",
      "Epoch 5/20\n",
      "60000/60000 [==============================] - 574s 10ms/step - loss: 12.9494 - acc: 0.1963 - val_loss: 13.7893 - val_acc: 0.1123\n",
      "Epoch 6/20\n",
      "60000/60000 [==============================] - 575s 10ms/step - loss: 12.3547 - acc: 0.2313 - val_loss: 12.0876 - val_acc: 0.1896\n",
      "Epoch 7/20\n",
      "60000/60000 [==============================] - 570s 9ms/step - loss: 9.6938 - acc: 0.3957 - val_loss: 12.2225 - val_acc: 0.1866\n",
      "Epoch 8/20\n",
      "60000/60000 [==============================] - 571s 10ms/step - loss: 9.6878 - acc: 0.3973 - val_loss: 12.4771 - val_acc: 0.1630\n",
      "Epoch 9/20\n",
      "60000/60000 [==============================] - 576s 10ms/step - loss: 9.6867 - acc: 0.3977 - val_loss: 12.0241 - val_acc: 0.1804\n",
      "Epoch 10/20\n",
      "60000/60000 [==============================] - 571s 10ms/step - loss: 9.6861 - acc: 0.3977 - val_loss: 11.6691 - val_acc: 0.2090\n",
      "Epoch 11/20\n",
      "60000/60000 [==============================] - 571s 10ms/step - loss: 9.6847 - acc: 0.3982 - val_loss: 11.5496 - val_acc: 0.2129\n",
      "Epoch 12/20\n",
      "60000/60000 [==============================] - 573s 10ms/step - loss: 9.6846 - acc: 0.3982 - val_loss: 11.2074 - val_acc: 0.2210\n",
      "Epoch 13/20\n",
      "60000/60000 [==============================] - 573s 10ms/step - loss: 9.6839 - acc: 0.3986 - val_loss: 10.8313 - val_acc: 0.2410\n",
      "Epoch 14/20\n",
      "60000/60000 [==============================] - 571s 10ms/step - loss: 9.6836 - acc: 0.3985 - val_loss: 11.5165 - val_acc: 0.2111\n",
      "Epoch 15/20\n",
      "60000/60000 [==============================] - 573s 10ms/step - loss: 9.6834 - acc: 0.3987 - val_loss: 11.8197 - val_acc: 0.2043\n",
      "Epoch 16/20\n",
      "60000/60000 [==============================] - 572s 10ms/step - loss: 9.6836 - acc: 0.3985 - val_loss: 11.5106 - val_acc: 0.2047\n",
      "Epoch 17/20\n",
      "60000/60000 [==============================] - 572s 10ms/step - loss: 9.6832 - acc: 0.3987 - val_loss: 11.9213 - val_acc: 0.1990\n",
      "Epoch 18/20\n",
      "60000/60000 [==============================] - 580s 10ms/step - loss: 9.6832 - acc: 0.3987 - val_loss: 11.3962 - val_acc: 0.2155\n",
      "Epoch 19/20\n",
      "60000/60000 [==============================] - 574s 10ms/step - loss: 9.6830 - acc: 0.3988 - val_loss: 11.4115 - val_acc: 0.2124\n",
      "Epoch 20/20\n",
      "60000/60000 [==============================] - 571s 10ms/step - loss: 9.6831 - acc: 0.3987 - val_loss: 11.5729 - val_acc: 0.2134\n"
     ]
    }
   ],
   "source": [
    "#Model compilation\n",
    "convnet3_3.compile(optimizer=keras.optimizers.Adagrad(),\n",
    "                loss=keras.losses.categorical_crossentropy,\n",
    "                metrics=['accuracy'])\n",
    "convnet3_3_history=convnet3_3.fit(x_train,y_train,batch_size=batch_size,\n",
    "                             epochs=epochs_v2,\n",
    "                             verbose=1,\n",
    "                             validation_data=(x_test, y_test))"
   ]
  },
  {
   "cell_type": "code",
   "execution_count": 20,
   "metadata": {},
   "outputs": [
    {
     "name": "stdout",
     "output_type": "stream",
     "text": [
      "test score : 11.572928186035156\n",
      "test sccuracy : 0.2134\n"
     ]
    },
    {
     "data": {
      "image/png": "[encoded data removed]",
      "text/plain": [
       "<Figure size 432x288 with 1 Axes>"
      ]
     },
     "metadata": {},
     "output_type": "display_data"
    }
   ],
   "source": [
    "#evaluating model\n",
    "\n",
    "score=convnet3_3.evaluate(x_test,y_test,verbose=0)\n",
    "test_score3_3=score[0]\n",
    "test_accuracy3_3=score[1]\n",
    "train_accuracy3_3=max(convnet3_3_history.history['acc'])\n",
    "print('test score :',test_score3_3)\n",
    "print('test sccuracy :',test_accuracy3_3)\n",
    "# error plot\n",
    "x=list(range(1,epochs_v2+1))\n",
    "vy=convnet3_3_history.history['val_loss'] \n",
    "ty=convnet3_3_history.history['loss'] \n",
    "plt_dynamic(x, vy, ty)"
   ]
  },
  {
   "cell_type": "markdown",
   "metadata": {},
   "source": [
    "## CNN with five layers(16-32-64-128-256)\n"
   ]
  },
  {
   "cell_type": "code",
   "execution_count": 14,
   "metadata": {},
   "outputs": [
    {
     "name": "stdout",
     "output_type": "stream",
     "text": [
      "Model: \"sequential_3\"\n",
      "_________________________________________________________________\n",
      "Layer (type)                 Output Shape              Param #   \n",
      "=================================================================\n",
      "conv2d_7 (Conv2D)            (None, 28, 28, 16)        416       \n",
      "_________________________________________________________________\n",
      "conv2d_8 (Conv2D)            (None, 28, 28, 32)        12832     \n",
      "_________________________________________________________________\n",
      "max_pooling2d_3 (MaxPooling2 (None, 14, 14, 32)        0         \n",
      "_________________________________________________________________\n",
      "dropout_7 (Dropout)          (None, 14, 14, 32)        0         \n",
      "_________________________________________________________________\n",
      "conv2d_9 (Conv2D)            (None, 14, 14, 64)        51264     \n",
      "_________________________________________________________________\n",
      "max_pooling2d_4 (MaxPooling2 (None, 7, 7, 64)          0         \n",
      "_________________________________________________________________\n",
      "dropout_8 (Dropout)          (None, 7, 7, 64)          0         \n",
      "_________________________________________________________________\n",
      "conv2d_10 (Conv2D)           (None, 7, 7, 128)         204928    \n",
      "_________________________________________________________________\n",
      "max_pooling2d_5 (MaxPooling2 (None, 3, 3, 128)         0         \n",
      "_________________________________________________________________\n",
      "dropout_9 (Dropout)          (None, 3, 3, 128)         0         \n",
      "_________________________________________________________________\n",
      "conv2d_11 (Conv2D)           (None, 3, 3, 256)         819456    \n",
      "_________________________________________________________________\n",
      "max_pooling2d_6 (MaxPooling2 (None, 1, 1, 256)         0         \n",
      "_________________________________________________________________\n",
      "dropout_10 (Dropout)         (None, 1, 1, 256)         0         \n",
      "_________________________________________________________________\n",
      "flatten_3 (Flatten)          (None, 256)               0         \n",
      "_________________________________________________________________\n",
      "dense_5 (Dense)              (None, 256)               65792     \n",
      "_________________________________________________________________\n",
      "batch_normalization_1 (Batch (None, 256)               1024      \n",
      "_________________________________________________________________\n",
      "dropout_11 (Dropout)         (None, 256)               0         \n",
      "_________________________________________________________________\n",
      "dense_6 (Dense)              (None, 10)                2570      \n",
      "=================================================================\n",
      "Total params: 1,158,282\n",
      "Trainable params: 1,157,770\n",
      "Non-trainable params: 512\n",
      "_________________________________________________________________\n",
      "None\n"
     ]
    }
   ],
   "source": [
    "convnet5=Sequential() # Initializing the model\n",
    "\n",
    "# First ConvNet\n",
    "convnet5.add(Conv2D(16,kernel_size=(5,5),\n",
    "                    activation='relu',\n",
    "                    padding='same',\n",
    "                    input_shape=input_shape))\n",
    "#Second Convnet\n",
    "\n",
    "convnet5.add(Conv2D(32,kernel_size=(5,5),\n",
    "                    padding='same',\n",
    "                    activation='relu'))\n",
    "convnet5.add(MaxPooling2D(pool_size=(2,2)))\n",
    "convnet5.add(Dropout(0.25))\n",
    "\n",
    "#Third Convnet\n",
    "\n",
    "convnet5.add(Conv2D(64,kernel_size=(5,5),\n",
    "                    padding='same',\n",
    "                   activation='relu'))  \n",
    "#maxpooling by (2,2 ) ,dropout,flattening\n",
    "convnet5.add(MaxPooling2D(pool_size=(2,2)))\n",
    "convnet5.add(Dropout(0.25))\n",
    "\n",
    "#Fourth Convnet\n",
    "\n",
    "convnet5.add(Conv2D(128,kernel_size=(5,5),\n",
    "                    padding='same',\n",
    "                    activation='relu'))\n",
    "convnet5.add(MaxPooling2D(pool_size=(2,2)))\n",
    "\n",
    "#Fifth Convnet\n",
    "convnet5.add(Dropout(0.25))\n",
    "convnet5.add(Conv2D(256,kernel_size=(5,5),\n",
    "                    padding='same',\n",
    "                    activation='relu'))\n",
    "convnet5.add(MaxPooling2D(pool_size=(2,2)))\n",
    "convnet5.add(Dropout(0.25))\n",
    "convnet5.add(Flatten())\n",
    "\n",
    "#hidden_layer\n",
    "convnet5.add(Dense(256,\n",
    "                   activation='relu',\n",
    "                   kernel_initializer=he_normal(seed=None)))\n",
    "convnet5.add(BatchNormalization())\n",
    "convnet5.add(Dropout(0.5))\n",
    "convnet5.add(Dense(num_classes,activation='softmax'))\n",
    "print(convnet5.summary())"
   ]
  },
  {
   "cell_type": "code",
   "execution_count": 15,
   "metadata": {},
   "outputs": [
    {
     "name": "stdout",
     "output_type": "stream",
     "text": [
      "Train on 60000 samples, validate on 10000 samples\n",
      "Epoch 1/12\n",
      "60000/60000 [==============================] - 479s 8ms/step - loss: 2.1579 - acc: 0.2672 - val_loss: 1.3136 - val_acc: 0.5212\n",
      "Epoch 2/12\n",
      "60000/60000 [==============================] - 456s 8ms/step - loss: 0.8318 - acc: 0.7122 - val_loss: 0.5597 - val_acc: 0.8003\n",
      "Epoch 3/12\n",
      "60000/60000 [==============================] - 445s 7ms/step - loss: 0.3037 - acc: 0.9088 - val_loss: 0.2165 - val_acc: 0.9351\n",
      "Epoch 4/12\n",
      "60000/60000 [==============================] - 417s 7ms/step - loss: 0.1576 - acc: 0.9536 - val_loss: 0.0700 - val_acc: 0.9794\n",
      "Epoch 5/12\n",
      "60000/60000 [==============================] - 416s 7ms/step - loss: 0.1033 - acc: 0.9703 - val_loss: 0.0654 - val_acc: 0.9807\n",
      "Epoch 6/12\n",
      "60000/60000 [==============================] - 416s 7ms/step - loss: 0.0799 - acc: 0.9769 - val_loss: 0.0364 - val_acc: 0.9890\n",
      "Epoch 7/12\n",
      "60000/60000 [==============================] - 416s 7ms/step - loss: 0.0667 - acc: 0.9807 - val_loss: 0.0299 - val_acc: 0.9913\n",
      "Epoch 8/12\n",
      "60000/60000 [==============================] - 416s 7ms/step - loss: 0.0558 - acc: 0.9841 - val_loss: 0.0267 - val_acc: 0.9910\n",
      "Epoch 9/12\n",
      "60000/60000 [==============================] - 424s 7ms/step - loss: 0.0479 - acc: 0.9863 - val_loss: 0.0339 - val_acc: 0.9905\n",
      "Epoch 10/12\n",
      "60000/60000 [==============================] - 439s 7ms/step - loss: 0.0441 - acc: 0.9866 - val_loss: 0.0227 - val_acc: 0.9929\n",
      "Epoch 11/12\n",
      "60000/60000 [==============================] - 429s 7ms/step - loss: 0.0407 - acc: 0.9879 - val_loss: 0.0267 - val_acc: 0.9926\n",
      "Epoch 12/12\n",
      "60000/60000 [==============================] - 424s 7ms/step - loss: 0.0381 - acc: 0.9888 - val_loss: 0.0214 - val_acc: 0.9934\n"
     ]
    }
   ],
   "source": [
    "#Model compilation\n",
    "convnet5.compile(optimizer=keras.optimizers.Adam(),\n",
    "                loss=keras.losses.categorical_crossentropy,\n",
    "                metrics=['accuracy'])\n",
    "convnet5_history=convnet5.fit(x_train,y_train,batch_size=batch_size,\n",
    "                             epochs=epochs,\n",
    "                             verbose=1,\n",
    "                             validation_data=(x_test, y_test))\n"
   ]
  },
  {
   "cell_type": "code",
   "execution_count": 16,
   "metadata": {},
   "outputs": [
    {
     "name": "stdout",
     "output_type": "stream",
     "text": [
      "test score : 0.021438096237325226\n",
      "test Accuracy : 0.9934\n"
     ]
    },
    {
     "data": {
      "image/png": "[encoded data removed]",
      "text/plain": [
       "<Figure size 432x288 with 1 Axes>"
      ]
     },
     "metadata": {},
     "output_type": "display_data"
    }
   ],
   "source": [
    "#evaluating model\n",
    "score=convnet5.evaluate(x_test,y_test,verbose=0)\n",
    "test_score5=score[0]\n",
    "test_accuracy5=score[1]\n",
    "train_accuracy5=max(convnet5_history.history['acc'])\n",
    "print('test score :',test_score5)\n",
    "print('test Accuracy :',test_accuracy5)\n",
    "# error plot\n",
    "x=list(range(1,epochs+1))\n",
    "vy=convnet5_history.history['val_loss'] \n",
    "ty=convnet5_history.history['loss'] \n",
    "plt_dynamic(x, vy, ty)"
   ]
  },
  {
   "cell_type": "markdown",
   "metadata": {},
   "source": [
    "### Without dropout and BatchNormalization"
   ]
  },
  {
   "cell_type": "code",
   "execution_count": 27,
   "metadata": {},
   "outputs": [
    {
     "name": "stdout",
     "output_type": "stream",
     "text": [
      "Model: \"sequential_7\"\n",
      "_________________________________________________________________\n",
      "Layer (type)                 Output Shape              Param #   \n",
      "=================================================================\n",
      "conv2d_23 (Conv2D)           (None, 28, 28, 16)        416       \n",
      "_________________________________________________________________\n",
      "conv2d_24 (Conv2D)           (None, 28, 28, 32)        12832     \n",
      "_________________________________________________________________\n",
      "max_pooling2d_17 (MaxPooling (None, 14, 14, 32)        0         \n",
      "_________________________________________________________________\n",
      "conv2d_25 (Conv2D)           (None, 14, 14, 64)        51264     \n",
      "_________________________________________________________________\n",
      "max_pooling2d_18 (MaxPooling (None, 7, 7, 64)          0         \n",
      "_________________________________________________________________\n",
      "conv2d_26 (Conv2D)           (None, 7, 7, 128)         204928    \n",
      "_________________________________________________________________\n",
      "max_pooling2d_19 (MaxPooling (None, 3, 3, 128)         0         \n",
      "_________________________________________________________________\n",
      "conv2d_27 (Conv2D)           (None, 3, 3, 256)         819456    \n",
      "_________________________________________________________________\n",
      "max_pooling2d_20 (MaxPooling (None, 1, 1, 256)         0         \n",
      "_________________________________________________________________\n",
      "flatten_7 (Flatten)          (None, 256)               0         \n",
      "_________________________________________________________________\n",
      "dense_13 (Dense)             (None, 256)               65792     \n",
      "_________________________________________________________________\n",
      "dense_14 (Dense)             (None, 10)                2570      \n",
      "=================================================================\n",
      "Total params: 1,157,258\n",
      "Trainable params: 1,157,258\n",
      "Non-trainable params: 0\n",
      "_________________________________________________________________\n",
      "None\n"
     ]
    }
   ],
   "source": [
    "convnet5=Sequential() # Initializing the model\n",
    "\n",
    "# First ConvNet\n",
    "convnet5.add(Conv2D(16,kernel_size=(5,5),\n",
    "                    activation='tanh',\n",
    "                    padding='same',\n",
    "                    input_shape=input_shape))\n",
    "#Second Convnet\n",
    "\n",
    "convnet5.add(Conv2D(32,kernel_size=(5,5),\n",
    "                    padding='same',\n",
    "                    activation='tanh'))\n",
    "convnet5.add(MaxPooling2D(pool_size=(2,2)))\n",
    "\n",
    "#Third Convnet\n",
    "\n",
    "convnet5.add(Conv2D(64,kernel_size=(5,5),\n",
    "                    padding='same',\n",
    "                   activation='tanh'))  \n",
    "#maxpooling by (2,2 ) ,dropout,flattening\n",
    "convnet5.add(MaxPooling2D(pool_size=(2,2)))\n",
    "\n",
    "#Fourth Convnet\n",
    "\n",
    "convnet5.add(Conv2D(128,kernel_size=(5,5),\n",
    "                    padding='same',\n",
    "                    activation='tanh'))\n",
    "convnet5.add(MaxPooling2D(pool_size=(2,2)))\n",
    "\n",
    "#Fifth Convnet\n",
    "convnet5.add(Conv2D(256,kernel_size=(5,5),\n",
    "                    padding='same',\n",
    "                    activation='tanh'))\n",
    "convnet5.add(MaxPooling2D(pool_size=(2,2)))\n",
    "convnet5.add(Flatten())\n",
    "\n",
    "#hidden_layer\n",
    "convnet5.add(Dense(256,\n",
    "                   activation='tanh',\n",
    "                   kernel_initializer=he_normal(seed=None)))\n",
    "convnet5.add(Dense(num_classes,activation='softmax'))\n",
    "print(convnet5.summary())"
   ]
  },
  {
   "cell_type": "code",
   "execution_count": 23,
   "metadata": {},
   "outputs": [
    {
     "name": "stdout",
     "output_type": "stream",
     "text": [
      "Train on 60000 samples, validate on 10000 samples\n",
      "Epoch 1/20\n",
      "60000/60000 [==============================] - 419s 7ms/step - loss: 0.7800 - acc: 0.7291 - val_loss: 0.0849 - val_acc: 0.9747\n",
      "Epoch 2/20\n",
      "60000/60000 [==============================] - 418s 7ms/step - loss: 0.0958 - acc: 0.9716 - val_loss: 0.0479 - val_acc: 0.9845\n",
      "Epoch 3/20\n",
      "60000/60000 [==============================] - 419s 7ms/step - loss: 0.0613 - acc: 0.9817 - val_loss: 0.0395 - val_acc: 0.9866\n",
      "Epoch 4/20\n",
      "60000/60000 [==============================] - 419s 7ms/step - loss: 0.0500 - acc: 0.9841 - val_loss: 0.0424 - val_acc: 0.9869\n",
      "Epoch 5/20\n",
      "60000/60000 [==============================] - 421s 7ms/step - loss: 0.0387 - acc: 0.9884 - val_loss: 0.0410 - val_acc: 0.9867\n",
      "Epoch 6/20\n",
      "60000/60000 [==============================] - 418s 7ms/step - loss: 0.0324 - acc: 0.9901 - val_loss: 0.0330 - val_acc: 0.9902\n",
      "Epoch 7/20\n",
      "60000/60000 [==============================] - 420s 7ms/step - loss: 0.0256 - acc: 0.9920 - val_loss: 0.0381 - val_acc: 0.9886\n",
      "Epoch 8/20\n",
      "60000/60000 [==============================] - 419s 7ms/step - loss: 0.0211 - acc: 0.9934 - val_loss: 0.0337 - val_acc: 0.9898\n",
      "Epoch 9/20\n",
      "60000/60000 [==============================] - 418s 7ms/step - loss: 0.0180 - acc: 0.9944 - val_loss: 0.0320 - val_acc: 0.9903\n",
      "Epoch 10/20\n",
      "60000/60000 [==============================] - 466s 8ms/step - loss: 0.0147 - acc: 0.9953 - val_loss: 0.0255 - val_acc: 0.9923\n",
      "Epoch 11/20\n",
      "60000/60000 [==============================] - 420s 7ms/step - loss: 0.0122 - acc: 0.9961 - val_loss: 0.0305 - val_acc: 0.9915\n",
      "Epoch 12/20\n",
      "60000/60000 [==============================] - 420s 7ms/step - loss: 0.0123 - acc: 0.9960 - val_loss: 0.0332 - val_acc: 0.9909\n",
      "Epoch 13/20\n",
      "60000/60000 [==============================] - 423s 7ms/step - loss: 0.0108 - acc: 0.9964 - val_loss: 0.0364 - val_acc: 0.9903\n",
      "Epoch 14/20\n",
      "60000/60000 [==============================] - 427s 7ms/step - loss: 0.0088 - acc: 0.9973 - val_loss: 0.0331 - val_acc: 0.9901\n",
      "Epoch 15/20\n",
      "60000/60000 [==============================] - 424s 7ms/step - loss: 0.0074 - acc: 0.9977 - val_loss: 0.0316 - val_acc: 0.9916\n",
      "Epoch 16/20\n",
      "60000/60000 [==============================] - 422s 7ms/step - loss: 0.0063 - acc: 0.9980 - val_loss: 0.0326 - val_acc: 0.9914\n",
      "Epoch 17/20\n",
      "60000/60000 [==============================] - 421s 7ms/step - loss: 0.0065 - acc: 0.9978 - val_loss: 0.0364 - val_acc: 0.9911\n",
      "Epoch 18/20\n",
      "60000/60000 [==============================] - 426s 7ms/step - loss: 0.0048 - acc: 0.9986 - val_loss: 0.0314 - val_acc: 0.9916\n",
      "Epoch 19/20\n",
      "60000/60000 [==============================] - 432s 7ms/step - loss: 0.0056 - acc: 0.9981 - val_loss: 0.0337 - val_acc: 0.9917\n",
      "Epoch 20/20\n",
      "60000/60000 [==============================] - 425s 7ms/step - loss: 0.0038 - acc: 0.9987 - val_loss: 0.0313 - val_acc: 0.9913\n"
     ]
    }
   ],
   "source": [
    "#Model compilation\n",
    "convnet5.compile(optimizer=keras.optimizers.Adamax(),\n",
    "                loss=keras.losses.categorical_crossentropy,\n",
    "                metrics=['accuracy'])\n",
    "convnet5_history=convnet5.fit(x_train,y_train,batch_size=batch_size,\n",
    "                             epochs=epochs_v2,\n",
    "                             verbose=1,\n",
    "                             validation_data=(x_test, y_test))"
   ]
  },
  {
   "cell_type": "code",
   "execution_count": 25,
   "metadata": {},
   "outputs": [
    {
     "name": "stdout",
     "output_type": "stream",
     "text": [
      "test score : 0.03129715899544244\n",
      "test Accuracy : 0.9913\n"
     ]
    },
    {
     "data": {
      "image/png": "[encoded data removed]",
      "text/plain": [
       "<Figure size 432x288 with 1 Axes>"
      ]
     },
     "metadata": {},
     "output_type": "display_data"
    }
   ],
   "source": [
    "#evaluating model\n",
    "score=convnet5.evaluate(x_test,y_test,verbose=0)\n",
    "test_score5=score[0]\n",
    "test_accuracy5=score[1]\n",
    "train_accuracy5=max(convnet5_history.history['acc'])\n",
    "print('test score :',test_score5)\n",
    "print('test Accuracy :',test_accuracy5)\n",
    "# error plot\n",
    "x=list(range(1,epochs_v2+1))\n",
    "vy=convnet5_history.history['val_loss'] \n",
    "ty=convnet5_history.history['loss'] \n",
    "plt_dynamic(x, vy, ty)"
   ]
  },
  {
   "cell_type": "markdown",
   "metadata": {},
   "source": [
    "### With dropout rate(0.3)"
   ]
  },
  {
   "cell_type": "code",
   "execution_count": 30,
   "metadata": {},
   "outputs": [
    {
     "name": "stdout",
     "output_type": "stream",
     "text": [
      "Model: \"sequential_9\"\n",
      "_________________________________________________________________\n",
      "Layer (type)                 Output Shape              Param #   \n",
      "=================================================================\n",
      "conv2d_33 (Conv2D)           (None, 28, 28, 16)        416       \n",
      "_________________________________________________________________\n",
      "conv2d_34 (Conv2D)           (None, 28, 28, 32)        12832     \n",
      "_________________________________________________________________\n",
      "max_pooling2d_25 (MaxPooling (None, 14, 14, 32)        0         \n",
      "_________________________________________________________________\n",
      "dropout_12 (Dropout)         (None, 14, 14, 32)        0         \n",
      "_________________________________________________________________\n",
      "conv2d_35 (Conv2D)           (None, 14, 14, 64)        51264     \n",
      "_________________________________________________________________\n",
      "max_pooling2d_26 (MaxPooling (None, 7, 7, 64)          0         \n",
      "_________________________________________________________________\n",
      "dropout_13 (Dropout)         (None, 7, 7, 64)          0         \n",
      "_________________________________________________________________\n",
      "conv2d_36 (Conv2D)           (None, 7, 7, 128)         204928    \n",
      "_________________________________________________________________\n",
      "max_pooling2d_27 (MaxPooling (None, 3, 3, 128)         0         \n",
      "_________________________________________________________________\n",
      "dropout_14 (Dropout)         (None, 3, 3, 128)         0         \n",
      "_________________________________________________________________\n",
      "conv2d_37 (Conv2D)           (None, 3, 3, 256)         819456    \n",
      "_________________________________________________________________\n",
      "max_pooling2d_28 (MaxPooling (None, 1, 1, 256)         0         \n",
      "_________________________________________________________________\n",
      "dropout_15 (Dropout)         (None, 1, 1, 256)         0         \n",
      "_________________________________________________________________\n",
      "flatten_9 (Flatten)          (None, 256)               0         \n",
      "_________________________________________________________________\n",
      "dense_17 (Dense)             (None, 256)               65792     \n",
      "_________________________________________________________________\n",
      "dense_18 (Dense)             (None, 10)                2570      \n",
      "=================================================================\n",
      "Total params: 1,157,258\n",
      "Trainable params: 1,157,258\n",
      "Non-trainable params: 0\n",
      "_________________________________________________________________\n",
      "None\n"
     ]
    }
   ],
   "source": [
    "convnet5=Sequential() # Initializing the model\n",
    "\n",
    "# First ConvNet\n",
    "convnet5.add(Conv2D(16,kernel_size=(5,5),\n",
    "                    activation='relu',\n",
    "                    padding='same',\n",
    "                    input_shape=input_shape))\n",
    "#Second Convnet\n",
    "\n",
    "convnet5.add(Conv2D(32,kernel_size=(5,5),\n",
    "                    padding='same',\n",
    "                    activation='relu'))\n",
    "convnet5.add(MaxPooling2D(pool_size=(2,2)))\n",
    "convnet5.add(Dropout(0.3))\n",
    "\n",
    "\n",
    "#Third Convnet\n",
    "\n",
    "convnet5.add(Conv2D(64,kernel_size=(5,5),\n",
    "                    padding='same',\n",
    "                   activation='relu'))  \n",
    "#maxpooling by (2,2 ) ,dropout,flattening\n",
    "convnet5.add(MaxPooling2D(pool_size=(2,2)))\n",
    "convnet5.add(Dropout(0.3))\n",
    "\n",
    "\n",
    "#Fourth Convnet\n",
    "\n",
    "convnet5.add(Conv2D(128,kernel_size=(5,5),\n",
    "                    padding='same',\n",
    "                    activation='relu'))\n",
    "convnet5.add(MaxPooling2D(pool_size=(2,2)))\n",
    "convnet5.add(Dropout(0.3))\n",
    "\n",
    "\n",
    "#Fifth Convnet\n",
    "convnet5.add(Conv2D(256,kernel_size=(5,5),\n",
    "                    padding='same',\n",
    "                    activation='relu'))\n",
    "convnet5.add(MaxPooling2D(pool_size=(2,2)))\n",
    "convnet5.add(Dropout(0.3))\n",
    "convnet5.add(Flatten())\n",
    "\n",
    "#hidden_layer\n",
    "convnet5.add(Dense(256,\n",
    "                   activation='relu',\n",
    "                   kernel_initializer=he_normal(seed=None)))\n",
    "convnet5.add(Dense(num_classes,activation='softmax'))\n",
    "print(convnet5.summary())"
   ]
  },
  {
   "cell_type": "code",
   "execution_count": 32,
   "metadata": {},
   "outputs": [
    {
     "name": "stdout",
     "output_type": "stream",
     "text": [
      "Train on 60000 samples, validate on 10000 samples\n",
      "Epoch 1/12\n",
      "60000/60000 [==============================] - 436s 7ms/step - loss: 14.2942 - acc: 0.1112 - val_loss: 14.4612 - val_acc: 0.1028\n",
      "Epoch 2/12\n",
      "60000/60000 [==============================] - 427s 7ms/step - loss: 14.4320 - acc: 0.1046 - val_loss: 14.4612 - val_acc: 0.1028\n",
      "Epoch 3/12\n",
      "60000/60000 [==============================] - 427s 7ms/step - loss: 14.3579 - acc: 0.1091 - val_loss: 14.2887 - val_acc: 0.1135\n",
      "Epoch 4/12\n",
      "60000/60000 [==============================] - 426s 7ms/step - loss: 14.3010 - acc: 0.1127 - val_loss: 14.2887 - val_acc: 0.1135\n",
      "Epoch 5/12\n",
      "60000/60000 [==============================] - 426s 7ms/step - loss: 14.3067 - acc: 0.1124 - val_loss: 14.2887 - val_acc: 0.1135\n",
      "Epoch 6/12\n",
      "60000/60000 [==============================] - 427s 7ms/step - loss: 14.2892 - acc: 0.1134 - val_loss: 14.2887 - val_acc: 0.1135\n",
      "Epoch 7/12\n",
      "60000/60000 [==============================] - 427s 7ms/step - loss: 14.3047 - acc: 0.1125 - val_loss: 14.2887 - val_acc: 0.1135\n",
      "Epoch 8/12\n",
      "60000/60000 [==============================] - 425s 7ms/step - loss: 14.3064 - acc: 0.1124 - val_loss: 14.2887 - val_acc: 0.1135\n",
      "Epoch 9/12\n",
      "60000/60000 [==============================] - 428s 7ms/step - loss: 14.3075 - acc: 0.1123 - val_loss: 14.2887 - val_acc: 0.1135\n",
      "Epoch 10/12\n",
      "60000/60000 [==============================] - 426s 7ms/step - loss: 14.3075 - acc: 0.1123 - val_loss: 14.2887 - val_acc: 0.1135\n",
      "Epoch 11/12\n",
      "60000/60000 [==============================] - 425s 7ms/step - loss: 14.2999 - acc: 0.1128 - val_loss: 14.2887 - val_acc: 0.1135\n",
      "Epoch 12/12\n",
      "60000/60000 [==============================] - 427s 7ms/step - loss: 14.3013 - acc: 0.1127 - val_loss: 14.2887 - val_acc: 0.1135\n"
     ]
    }
   ],
   "source": [
    "#Model compilation\n",
    "convnet5.compile(optimizer=keras.optimizers.Adadelta(),\n",
    "                loss=keras.losses.categorical_crossentropy,\n",
    "                metrics=['accuracy'])\n",
    "convnet5_history=convnet5.fit(x_train,y_train,batch_size=batch_size,\n",
    "                             epochs=epochs,\n",
    "                             verbose=1,\n",
    "                             validation_data=(x_test, y_test))"
   ]
  },
  {
   "cell_type": "code",
   "execution_count": 33,
   "metadata": {},
   "outputs": [
    {
     "name": "stdout",
     "output_type": "stream",
     "text": [
      "test score : 14.28869146270752\n",
      "test Accuracy : 0.1135\n"
     ]
    },
    {
     "data": {
      "image/png": "[encoded data removed]",
      "text/plain": [
       "<Figure size 432x288 with 1 Axes>"
      ]
     },
     "metadata": {},
     "output_type": "display_data"
    }
   ],
   "source": [
    "#evaluating model\n",
    "score=convnet5.evaluate(x_test,y_test,verbose=0)\n",
    "test_score5=score[0]\n",
    "test_accuracy5=score[1]\n",
    "train_accuracy5=max(convnet5_history.history['acc'])\n",
    "print('test score :',test_score5)\n",
    "print('test Accuracy :',test_accuracy5)\n",
    "# error plot\n",
    "x=list(range(1,epochs+1))\n",
    "vy=convnet5_history.history['val_loss'] \n",
    "ty=convnet5_history.history['loss'] \n",
    "plt_dynamic(x, vy, ty)"
   ]
  },
  {
   "cell_type": "markdown",
   "metadata": {},
   "source": [
    "### With batch normalization and dropout(0.5)"
   ]
  },
  {
   "cell_type": "code",
   "execution_count": 48,
   "metadata": {},
   "outputs": [
    {
     "name": "stdout",
     "output_type": "stream",
     "text": [
      "Model: \"sequential_16\"\n",
      "_________________________________________________________________\n",
      "Layer (type)                 Output Shape              Param #   \n",
      "=================================================================\n",
      "conv2d_68 (Conv2D)           (None, 28, 28, 16)        416       \n",
      "_________________________________________________________________\n",
      "conv2d_69 (Conv2D)           (None, 28, 28, 32)        12832     \n",
      "_________________________________________________________________\n",
      "max_pooling2d_53 (MaxPooling (None, 14, 14, 32)        0         \n",
      "_________________________________________________________________\n",
      "dropout_40 (Dropout)         (None, 14, 14, 32)        0         \n",
      "_________________________________________________________________\n",
      "batch_normalization_27 (Batc (None, 14, 14, 32)        128       \n",
      "_________________________________________________________________\n",
      "conv2d_70 (Conv2D)           (None, 14, 14, 64)        51264     \n",
      "_________________________________________________________________\n",
      "max_pooling2d_54 (MaxPooling (None, 7, 7, 64)          0         \n",
      "_________________________________________________________________\n",
      "dropout_41 (Dropout)         (None, 7, 7, 64)          0         \n",
      "_________________________________________________________________\n",
      "batch_normalization_28 (Batc (None, 7, 7, 64)          256       \n",
      "_________________________________________________________________\n",
      "conv2d_71 (Conv2D)           (None, 7, 7, 128)         204928    \n",
      "_________________________________________________________________\n",
      "max_pooling2d_55 (MaxPooling (None, 3, 3, 128)         0         \n",
      "_________________________________________________________________\n",
      "dropout_42 (Dropout)         (None, 3, 3, 128)         0         \n",
      "_________________________________________________________________\n",
      "batch_normalization_29 (Batc (None, 3, 3, 128)         512       \n",
      "_________________________________________________________________\n",
      "conv2d_72 (Conv2D)           (None, 3, 3, 256)         819456    \n",
      "_________________________________________________________________\n",
      "max_pooling2d_56 (MaxPooling (None, 1, 1, 256)         0         \n",
      "_________________________________________________________________\n",
      "dropout_43 (Dropout)         (None, 1, 1, 256)         0         \n",
      "_________________________________________________________________\n",
      "batch_normalization_30 (Batc (None, 1, 1, 256)         1024      \n",
      "_________________________________________________________________\n",
      "flatten_16 (Flatten)         (None, 256)               0         \n",
      "_________________________________________________________________\n",
      "dense_31 (Dense)             (None, 128)               32896     \n",
      "_________________________________________________________________\n",
      "dense_32 (Dense)             (None, 10)                1290      \n",
      "=================================================================\n",
      "Total params: 1,125,002\n",
      "Trainable params: 1,124,042\n",
      "Non-trainable params: 960\n",
      "_________________________________________________________________\n",
      "None\n"
     ]
    }
   ],
   "source": [
    "convnet5=Sequential() # Initializing the model\n",
    "\n",
    "# First ConvNet\n",
    "convnet5.add(Conv2D(16,kernel_size=(5,5),\n",
    "                    activation='relu',\n",
    "                    padding='same',\n",
    "                    input_shape=input_shape))\n",
    "#Second Convnet\n",
    "\n",
    "convnet5.add(Conv2D(32,kernel_size=(5,5),\n",
    "                    padding='same',\n",
    "                    activation='relu'))\n",
    "convnet5.add(MaxPooling2D(pool_size=(2,2)))\n",
    "convnet5.add(Dropout(0.5))\n",
    "convnet5.add(BatchNormalization())\n",
    "\n",
    "\n",
    "\n",
    "#Third Convnet\n",
    "\n",
    "convnet5.add(Conv2D(64,kernel_size=(5,5),\n",
    "                    padding='same',\n",
    "                   activation='relu'))  \n",
    "#maxpooling by (2,2 ) ,dropout,flattening\n",
    "convnet5.add(MaxPooling2D(pool_size=(2,2)))\n",
    "convnet5.add(Dropout(0.5))\n",
    "convnet5.add(BatchNormalization())\n",
    "\n",
    "\n",
    "#Fourth Convnet\n",
    "\n",
    "convnet5.add(Conv2D(128,kernel_size=(5,5),\n",
    "                    padding='same',\n",
    "                    activation='relu'))\n",
    "convnet5.add(MaxPooling2D(pool_size=(2,2)))\n",
    "convnet5.add(Dropout(0.5))\n",
    "convnet5.add(BatchNormalization())\n",
    "\n",
    "\n",
    "#Fifth Convnet\n",
    "convnet5.add(Conv2D(256,kernel_size=(5,5),\n",
    "                    padding='same',\n",
    "                    activation='relu'))\n",
    "convnet5.add(MaxPooling2D(pool_size=(2,2)))\n",
    "convnet5.add(Dropout(0.5))\n",
    "convnet5.add(BatchNormalization())\n",
    "convnet5.add(Flatten())\n",
    "\n",
    "#hidden_layer\n",
    "convnet5.add(Dense(128,\n",
    "                   activation='relu',\n",
    "                   kernel_initializer=he_normal(seed=None)))\n",
    "convnet5.add(Dense(num_classes,activation='softmax'))\n",
    "print(convnet5.summary())"
   ]
  },
  {
   "cell_type": "code",
   "execution_count": 49,
   "metadata": {},
   "outputs": [
    {
     "name": "stdout",
     "output_type": "stream",
     "text": [
      "Train on 60000 samples, validate on 10000 samples\n",
      "Epoch 1/12\n",
      "60000/60000 [==============================] - 527s 9ms/step - loss: 0.4415 - acc: 0.8582 - val_loss: 0.0899 - val_acc: 0.9723\n",
      "Epoch 2/12\n",
      "60000/60000 [==============================] - 507s 8ms/step - loss: 0.1059 - acc: 0.9685 - val_loss: 0.0402 - val_acc: 0.9871\n",
      "Epoch 3/12\n",
      "60000/60000 [==============================] - 510s 9ms/step - loss: 0.0805 - acc: 0.9760 - val_loss: 0.0325 - val_acc: 0.9906\n",
      "Epoch 4/12\n",
      "60000/60000 [==============================] - 519s 9ms/step - loss: 0.0681 - acc: 0.9790 - val_loss: 0.0349 - val_acc: 0.9889\n",
      "Epoch 5/12\n",
      "60000/60000 [==============================] - 515s 9ms/step - loss: 0.0630 - acc: 0.9814 - val_loss: 0.0575 - val_acc: 0.9834\n",
      "Epoch 6/12\n",
      "60000/60000 [==============================] - 508s 8ms/step - loss: 0.0549 - acc: 0.9834 - val_loss: 0.0241 - val_acc: 0.9935\n",
      "Epoch 7/12\n",
      "60000/60000 [==============================] - 509s 8ms/step - loss: 0.0539 - acc: 0.9841 - val_loss: 0.0361 - val_acc: 0.9898\n",
      "Epoch 8/12\n",
      "60000/60000 [==============================] - 507s 8ms/step - loss: 0.0520 - acc: 0.9845 - val_loss: 0.0229 - val_acc: 0.9933\n",
      "Epoch 9/12\n",
      "60000/60000 [==============================] - 508s 8ms/step - loss: 0.0466 - acc: 0.9860 - val_loss: 0.0446 - val_acc: 0.9876\n",
      "Epoch 10/12\n",
      "60000/60000 [==============================] - 510s 9ms/step - loss: 0.0433 - acc: 0.9869 - val_loss: 0.0205 - val_acc: 0.9934\n",
      "Epoch 11/12\n",
      "60000/60000 [==============================] - 508s 8ms/step - loss: 0.0433 - acc: 0.9869 - val_loss: 0.0224 - val_acc: 0.9936\n",
      "Epoch 12/12\n",
      "60000/60000 [==============================] - 508s 8ms/step - loss: 0.0429 - acc: 0.9871 - val_loss: 0.0352 - val_acc: 0.9908\n"
     ]
    }
   ],
   "source": [
    "#Model compilation\n",
    "convnet5.compile(optimizer=keras.optimizers.Adam(),\n",
    "                loss=keras.losses.categorical_crossentropy,\n",
    "                metrics=['accuracy'])\n",
    "convnet5_history=convnet5.fit(x_train,y_train,batch_size=batch_size,\n",
    "                             epochs=epochs,\n",
    "                             verbose=1,\n",
    "                             validation_data=(x_test, y_test))"
   ]
  },
  {
   "cell_type": "code",
   "execution_count": 50,
   "metadata": {},
   "outputs": [
    {
     "name": "stdout",
     "output_type": "stream",
     "text": [
      "test score : 0.03521839593031909\n",
      "test Accuracy : 0.9908\n"
     ]
    },
    {
     "data": {
      "image/png": "[encoded data removed]",
      "text/plain": [
       "<Figure size 432x288 with 1 Axes>"
      ]
     },
     "metadata": {},
     "output_type": "display_data"
    }
   ],
   "source": [
    "#evaluating model\n",
    "score=convnet5.evaluate(x_test,y_test,verbose=0)\n",
    "test_score5=score[0]\n",
    "test_accuracy5=score[1]\n",
    "train_accuracy5=max(convnet5_history.history['acc'])\n",
    "print('test score :',test_score5)\n",
    "print('test Accuracy :',test_accuracy5)\n",
    "# error plot\n",
    "x=list(range(1,epochs+1))\n",
    "vy=convnet5_history.history['val_loss'] \n",
    "ty=convnet5_history.history['loss'] \n",
    "plt_dynamic(x, vy, ty)"
   ]
  },
  {
   "cell_type": "markdown",
   "metadata": {},
   "source": [
    "## CNN with seven layers(16-32-64-128-196-256-512)\n"
   ]
  },
  {
   "cell_type": "code",
   "execution_count": 18,
   "metadata": {},
   "outputs": [
    {
     "name": "stdout",
     "output_type": "stream",
     "text": [
      "Model: \"sequential_5\"\n",
      "_________________________________________________________________\n",
      "Layer (type)                 Output Shape              Param #   \n",
      "=================================================================\n",
      "conv2d_12 (Conv2D)           (None, 28, 28, 16)        80        \n",
      "_________________________________________________________________\n",
      "conv2d_13 (Conv2D)           (None, 14, 14, 32)        2080      \n",
      "_________________________________________________________________\n",
      "conv2d_14 (Conv2D)           (None, 14, 14, 64)        8256      \n",
      "_________________________________________________________________\n",
      "dropout_12 (Dropout)         (None, 14, 14, 64)        0         \n",
      "_________________________________________________________________\n",
      "conv2d_15 (Conv2D)           (None, 14, 14, 128)       32896     \n",
      "_________________________________________________________________\n",
      "max_pooling2d_7 (MaxPooling2 (None, 7, 7, 128)         0         \n",
      "_________________________________________________________________\n",
      "dropout_13 (Dropout)         (None, 7, 7, 128)         0         \n",
      "_________________________________________________________________\n",
      "conv2d_16 (Conv2D)           (None, 7, 7, 196)         100548    \n",
      "_________________________________________________________________\n",
      "max_pooling2d_8 (MaxPooling2 (None, 3, 3, 196)         0         \n",
      "_________________________________________________________________\n",
      "dropout_14 (Dropout)         (None, 3, 3, 196)         0         \n",
      "_________________________________________________________________\n",
      "conv2d_17 (Conv2D)           (None, 3, 3, 256)         200960    \n",
      "_________________________________________________________________\n",
      "conv2d_18 (Conv2D)           (None, 3, 3, 512)         524800    \n",
      "_________________________________________________________________\n",
      "max_pooling2d_9 (MaxPooling2 (None, 1, 1, 512)         0         \n",
      "_________________________________________________________________\n",
      "dropout_15 (Dropout)         (None, 1, 1, 512)         0         \n",
      "_________________________________________________________________\n",
      "flatten_4 (Flatten)          (None, 512)               0         \n",
      "_________________________________________________________________\n",
      "dense_7 (Dense)              (None, 256)               131328    \n",
      "_________________________________________________________________\n",
      "batch_normalization_2 (Batch (None, 256)               1024      \n",
      "_________________________________________________________________\n",
      "dropout_16 (Dropout)         (None, 256)               0         \n",
      "_________________________________________________________________\n",
      "dense_8 (Dense)              (None, 10)                2570      \n",
      "=================================================================\n",
      "Total params: 1,004,542\n",
      "Trainable params: 1,004,030\n",
      "Non-trainable params: 512\n",
      "_________________________________________________________________\n",
      "None\n"
     ]
    }
   ],
   "source": [
    "convnet7=Sequential() # Initializing the model\n",
    "\n",
    "# First ConvNet\n",
    "convnet7.add(Conv2D(16,kernel_size=(2,2),\n",
    "                    activation='relu',\n",
    "                    padding='same',strides=(1,1),\n",
    "                    input_shape=input_shape))\n",
    "\n",
    "# Second ConvNet\n",
    "\n",
    "convnet7.add(Conv2D(32,kernel_size=(2,2),\n",
    "                    padding='same',strides=(2,2),\n",
    "                    activation='relu'))\n",
    "\n",
    "# Third ConvNet\n",
    "onvNet\n",
    "convnet7.add(Conv2D(64,kernel_size=(2,2),\n",
    "                    padding='same',\n",
    "                   activation='relu'))  \n",
    "convnet7.add(Dropout(0.15))\n",
    "\n",
    "# Fourth ConvNet\n",
    "\n",
    "convnet7.add(Conv2D(128,kernel_size=(2,2),\n",
    "                    padding='same',\n",
    "                    activation='relu'))\n",
    "convnet7.add(MaxPooling2D(pool_size=(2,2)))\n",
    "convnet7.add(Dropout(0.39))\n",
    "\n",
    "# Fifth ConvNet\n",
    "\n",
    "convnet7.add(Conv2D(196,kernel_size=(2,2),\n",
    "                    padding='same',\n",
    "                    activation='relu'))\n",
    "convnet7.add(MaxPooling2D(pool_size=(2,2)))\n",
    "convnet7.add(Dropout(0.3))\n",
    "\n",
    "# Sixth ConvNet\n",
    "convnet7.add(Conv2D(256,kernel_size=(2,2),\n",
    "                    padding='same',\n",
    "                    activation='relu'))\n",
    "# Seventh Convnet\n",
    "\n",
    "convnet7.add(Conv2D(512,kernel_size=(2,2),\n",
    "                    padding='same',strides=(1,1),\n",
    "                    activation='relu'))\n",
    "\n",
    "convnet7.add(MaxPooling2D(pool_size=(2,2)))\n",
    "convnet7.add(Dropout(0.4))\n",
    "convnet7.add(Flatten())\n",
    "\n",
    "#hidden_layer\n",
    "convnet7.add(Dense(256,\n",
    "                   activation='relu',\n",
    "                   kernel_initializer=he_normal(seed=None)))\n",
    "convnet7.add(BatchNormalization())\n",
    "convnet7.add(Dropout(0.5))\n",
    "convnet7.add(Dense(num_classes,activation='softmax'))\n",
    "print(convnet7.summary())"
   ]
  },
  {
   "cell_type": "code",
   "execution_count": 19,
   "metadata": {},
   "outputs": [
    {
     "name": "stdout",
     "output_type": "stream",
     "text": [
      "Train on 60000 samples, validate on 10000 samples\n",
      "Epoch 1/12\n",
      "60000/60000 [==============================] - 343s 6ms/step - loss: 0.6873 - acc: 0.7848 - val_loss: 0.0713 - val_acc: 0.9776\n",
      "Epoch 2/12\n",
      "60000/60000 [==============================] - 343s 6ms/step - loss: 0.1262 - acc: 0.9624 - val_loss: 0.0450 - val_acc: 0.9861\n",
      "Epoch 3/12\n",
      "60000/60000 [==============================] - 363s 6ms/step - loss: 0.0883 - acc: 0.9739 - val_loss: 0.0308 - val_acc: 0.9898\n",
      "Epoch 4/12\n",
      "60000/60000 [==============================] - 350s 6ms/step - loss: 0.0698 - acc: 0.9794 - val_loss: 0.0293 - val_acc: 0.9910\n",
      "Epoch 5/12\n",
      "60000/60000 [==============================] - 349s 6ms/step - loss: 0.0589 - acc: 0.9829 - val_loss: 0.0380 - val_acc: 0.9890\n",
      "Epoch 6/12\n",
      "60000/60000 [==============================] - 337s 6ms/step - loss: 0.0501 - acc: 0.9846 - val_loss: 0.0239 - val_acc: 0.9920\n",
      "Epoch 7/12\n",
      "60000/60000 [==============================] - 337s 6ms/step - loss: 0.0473 - acc: 0.9859 - val_loss: 0.0286 - val_acc: 0.9917\n",
      "Epoch 8/12\n",
      "60000/60000 [==============================] - 333s 6ms/step - loss: 0.0459 - acc: 0.9863 - val_loss: 0.0228 - val_acc: 0.9929\n",
      "Epoch 9/12\n",
      "60000/60000 [==============================] - 332s 6ms/step - loss: 0.0395 - acc: 0.9876 - val_loss: 0.0222 - val_acc: 0.9942\n",
      "Epoch 10/12\n",
      "60000/60000 [==============================] - 340s 6ms/step - loss: 0.0390 - acc: 0.9889 - val_loss: 0.0226 - val_acc: 0.9940\n",
      "Epoch 11/12\n",
      "60000/60000 [==============================] - 333s 6ms/step - loss: 0.0386 - acc: 0.9886 - val_loss: 0.0241 - val_acc: 0.9924\n",
      "Epoch 12/12\n",
      "60000/60000 [==============================] - 330s 5ms/step - loss: 0.0369 - acc: 0.9893 - val_loss: 0.0219 - val_acc: 0.9938\n"
     ]
    }
   ],
   "source": [
    "convnet7.compile(optimizer=keras.optimizers.Adam(),\n",
    "                loss=keras.losses.categorical_crossentropy,\n",
    "                metrics=['accuracy'])\n",
    "convnet7_history=convnet7.fit(x_train,y_train,batch_size=batch_size,\n",
    "                             epochs=epochs,\n",
    "                             verbose=1,\n",
    "                             validation_data=(x_test, y_test))"
   ]
  },
  {
   "cell_type": "code",
   "execution_count": 20,
   "metadata": {},
   "outputs": [
    {
     "name": "stdout",
     "output_type": "stream",
     "text": [
      "test score : 0.021896035060909345\n",
      "test Accuracy : 0.9938\n"
     ]
    },
    {
     "data": {
      "image/png": "[encoded data removed]",
      "text/plain": [
       "<Figure size 432x288 with 1 Axes>"
      ]
     },
     "metadata": {},
     "output_type": "display_data"
    }
   ],
   "source": [
    "#evaluating model\n",
    "score=convnet7.evaluate(x_test,y_test,verbose=0)\n",
    "test_score7=score[0]\n",
    "test_accuracy7=score[1]\n",
    "train_accuracy7=max(convnet7_history.history['acc'])\n",
    "print('test score :',test_score7)\n",
    "print('test Accuracy :',test_accuracy7)\n",
    "# error plot\n",
    "x=list(range(1,epochs+1))\n",
    "vy=convnet7_history.history['val_loss'] \n",
    "ty=convnet7_history.history['loss'] \n",
    "plt_dynamic(x, vy, ty)"
   ]
  },
  {
   "cell_type": "markdown",
   "metadata": {},
   "source": [
    "### With BatchNormalization"
   ]
  },
  {
   "cell_type": "code",
   "execution_count": 52,
   "metadata": {},
   "outputs": [
    {
     "name": "stdout",
     "output_type": "stream",
     "text": [
      "Model: \"sequential_18\"\n",
      "_________________________________________________________________\n",
      "Layer (type)                 Output Shape              Param #   \n",
      "=================================================================\n",
      "conv2d_75 (Conv2D)           (None, 28, 28, 16)        80        \n",
      "_________________________________________________________________\n",
      "conv2d_76 (Conv2D)           (None, 14, 14, 32)        2080      \n",
      "_________________________________________________________________\n",
      "batch_normalization_32 (Batc (None, 14, 14, 32)        128       \n",
      "_________________________________________________________________\n",
      "conv2d_77 (Conv2D)           (None, 14, 14, 64)        8256      \n",
      "_________________________________________________________________\n",
      "batch_normalization_33 (Batc (None, 14, 14, 64)        256       \n",
      "_________________________________________________________________\n",
      "conv2d_78 (Conv2D)           (None, 14, 14, 128)       32896     \n",
      "_________________________________________________________________\n",
      "max_pooling2d_57 (MaxPooling (None, 7, 7, 128)         0         \n",
      "_________________________________________________________________\n",
      "batch_normalization_34 (Batc (None, 7, 7, 128)         512       \n",
      "_________________________________________________________________\n",
      "conv2d_79 (Conv2D)           (None, 7, 7, 196)         100548    \n",
      "_________________________________________________________________\n",
      "max_pooling2d_58 (MaxPooling (None, 3, 3, 196)         0         \n",
      "_________________________________________________________________\n",
      "batch_normalization_35 (Batc (None, 3, 3, 196)         784       \n",
      "_________________________________________________________________\n",
      "conv2d_80 (Conv2D)           (None, 3, 3, 256)         200960    \n",
      "_________________________________________________________________\n",
      "batch_normalization_36 (Batc (None, 3, 3, 256)         1024      \n",
      "_________________________________________________________________\n",
      "conv2d_81 (Conv2D)           (None, 3, 3, 512)         524800    \n",
      "_________________________________________________________________\n",
      "max_pooling2d_59 (MaxPooling (None, 1, 1, 512)         0         \n",
      "_________________________________________________________________\n",
      "batch_normalization_37 (Batc (None, 1, 1, 512)         2048      \n",
      "_________________________________________________________________\n",
      "flatten_17 (Flatten)         (None, 512)               0         \n",
      "_________________________________________________________________\n",
      "dense_33 (Dense)             (None, 256)               131328    \n",
      "_________________________________________________________________\n",
      "batch_normalization_38 (Batc (None, 256)               1024      \n",
      "_________________________________________________________________\n",
      "dense_34 (Dense)             (None, 10)                2570      \n",
      "=================================================================\n",
      "Total params: 1,009,294\n",
      "Trainable params: 1,006,406\n",
      "Non-trainable params: 2,888\n",
      "_________________________________________________________________\n",
      "None\n"
     ]
    }
   ],
   "source": [
    "convnet7=Sequential() # Initializing the model\n",
    "\n",
    "# First ConvNet\n",
    "convnet7.add(Conv2D(16,kernel_size=(2,2),\n",
    "                    activation='relu',\n",
    "                    padding='same',strides=(1,1),\n",
    "                    input_shape=input_shape))\n",
    "\n",
    "# Second ConvNet\n",
    "\n",
    "convnet7.add(Conv2D(32,kernel_size=(2,2),\n",
    "                    padding='same',strides=(2,2),\n",
    "                    activation='relu'))\n",
    "convnet7.add(BatchNormalization())\n",
    "\n",
    "\n",
    "# Third ConvNet\n",
    "\n",
    "convnet7.add(Conv2D(64,kernel_size=(2,2),\n",
    "                    padding='same',\n",
    "                   activation='relu'))  \n",
    "convnet7.add(BatchNormalization())\n",
    "\n",
    "# Fourth ConvNet\n",
    "\n",
    "convnet7.add(Conv2D(128,kernel_size=(2,2),\n",
    "                    padding='same',\n",
    "                    activation='relu'))\n",
    "convnet7.add(MaxPooling2D(pool_size=(2,2)))\n",
    "convnet7.add(BatchNormalization())\n",
    "\n",
    "# Fifth ConvNet\n",
    "\n",
    "convnet7.add(Conv2D(196,kernel_size=(2,2),\n",
    "                    padding='same',\n",
    "                    activation='relu'))\n",
    "convnet7.add(MaxPooling2D(pool_size=(2,2)))\n",
    "convnet7.add(BatchNormalization())\n",
    "\n",
    "# Sixth ConvNet\n",
    "convnet7.add(Conv2D(256,kernel_size=(2,2),\n",
    "                    padding='same',\n",
    "                    activation='relu'))\n",
    "convnet7.add(BatchNormalization())\n",
    "\n",
    "# Seventh Convnet\n",
    "\n",
    "convnet7.add(Conv2D(512,kernel_size=(2,2),\n",
    "                    padding='same',strides=(1,1),\n",
    "                    activation='relu'))\n",
    "\n",
    "convnet7.add(MaxPooling2D(pool_size=(2,2)))\n",
    "convnet7.add(BatchNormalization())\n",
    "convnet7.add(Flatten())\n",
    "\n",
    "#hidden_layer\n",
    "convnet7.add(Dense(256,\n",
    "                   activation='relu',\n",
    "                   kernel_initializer=he_normal(seed=None)))\n",
    "convnet7.add(BatchNormalization())\n",
    "convnet7.add(Dense(num_classes,activation='softmax'))\n",
    "print(convnet7.summary())"
   ]
  },
  {
   "cell_type": "code",
   "execution_count": 53,
   "metadata": {},
   "outputs": [
    {
     "name": "stdout",
     "output_type": "stream",
     "text": [
      "Train on 60000 samples, validate on 10000 samples\n",
      "Epoch 1/12\n",
      "60000/60000 [==============================] - 485s 8ms/step - loss: 0.1075 - acc: 0.9670 - val_loss: 0.0534 - val_acc: 0.9820\n",
      "Epoch 2/12\n",
      "60000/60000 [==============================] - 478s 8ms/step - loss: 0.0344 - acc: 0.9895 - val_loss: 0.0411 - val_acc: 0.9868\n",
      "Epoch 3/12\n",
      "60000/60000 [==============================] - 478s 8ms/step - loss: 0.0229 - acc: 0.9927 - val_loss: 0.0492 - val_acc: 0.9853\n",
      "Epoch 4/12\n",
      "60000/60000 [==============================] - 479s 8ms/step - loss: 0.0231 - acc: 0.9927 - val_loss: 0.0308 - val_acc: 0.9907\n",
      "Epoch 5/12\n",
      "60000/60000 [==============================] - 479s 8ms/step - loss: 0.0148 - acc: 0.9950 - val_loss: 0.0418 - val_acc: 0.9874\n",
      "Epoch 6/12\n",
      "60000/60000 [==============================] - 480s 8ms/step - loss: 0.0153 - acc: 0.9950 - val_loss: 0.0339 - val_acc: 0.9904\n",
      "Epoch 7/12\n",
      "60000/60000 [==============================] - 477s 8ms/step - loss: 0.0122 - acc: 0.9961 - val_loss: 0.0470 - val_acc: 0.9880\n",
      "Epoch 8/12\n",
      "60000/60000 [==============================] - 480s 8ms/step - loss: 0.0130 - acc: 0.9958 - val_loss: 0.0532 - val_acc: 0.9854\n",
      "Epoch 9/12\n",
      "60000/60000 [==============================] - 477s 8ms/step - loss: 0.0117 - acc: 0.9962 - val_loss: 0.0412 - val_acc: 0.9887\n",
      "Epoch 10/12\n",
      "60000/60000 [==============================] - 477s 8ms/step - loss: 0.0106 - acc: 0.9965 - val_loss: 0.0404 - val_acc: 0.9899\n",
      "Epoch 11/12\n",
      "60000/60000 [==============================] - 478s 8ms/step - loss: 0.0076 - acc: 0.9976 - val_loss: 0.0400 - val_acc: 0.9904\n",
      "Epoch 12/12\n",
      "60000/60000 [==============================] - 479s 8ms/step - loss: 0.0106 - acc: 0.9963 - val_loss: 0.0718 - val_acc: 0.9823\n"
     ]
    }
   ],
   "source": [
    "convnet7.compile(optimizer=keras.optimizers.Adam(),\n",
    "                loss=keras.losses.categorical_crossentropy,\n",
    "                metrics=['accuracy'])\n",
    "convnet7_history=convnet7.fit(x_train,y_train,batch_size=batch_size,\n",
    "                             epochs=epochs,\n",
    "                             verbose=1,\n",
    "                             validation_data=(x_test, y_test))"
   ]
  },
  {
   "cell_type": "code",
   "execution_count": 54,
   "metadata": {},
   "outputs": [
    {
     "name": "stdout",
     "output_type": "stream",
     "text": [
      "test score : 0.07181618752231515\n",
      "test Accuracy : 0.9823\n"
     ]
    },
    {
     "data": {
      "image/png": "[encoded data removed]",
      "text/plain": [
       "<Figure size 432x288 with 1 Axes>"
      ]
     },
     "metadata": {},
     "output_type": "display_data"
    }
   ],
   "source": [
    "#evaluating model\n",
    "score=convnet7.evaluate(x_test,y_test,verbose=0)\n",
    "test_score7=score[0]\n",
    "test_accuracy7=score[1]\n",
    "train_accuracy7=max(convnet7_history.history['acc'])\n",
    "print('test score :',test_score7)\n",
    "print('test Accuracy :',test_accuracy7)\n",
    "# error plot\n",
    "x=list(range(1,epochs+1))\n",
    "vy=convnet7_history.history['val_loss'] \n",
    "ty=convnet7_history.history['loss'] \n",
    "plt_dynamic(x, vy, ty)"
   ]
  },
  {
   "cell_type": "markdown",
   "metadata": {},
   "source": [
    "### With Dropout(0.4)\n"
   ]
  },
  {
   "cell_type": "code",
   "execution_count": 57,
   "metadata": {},
   "outputs": [
    {
     "name": "stdout",
     "output_type": "stream",
     "text": [
      "Model: \"sequential_20\"\n",
      "_________________________________________________________________\n",
      "Layer (type)                 Output Shape              Param #   \n",
      "=================================================================\n",
      "conv2d_89 (Conv2D)           (None, 28, 28, 16)        80        \n",
      "_________________________________________________________________\n",
      "conv2d_90 (Conv2D)           (None, 14, 14, 32)        2080      \n",
      "_________________________________________________________________\n",
      "dropout_50 (Dropout)         (None, 14, 14, 32)        0         \n",
      "_________________________________________________________________\n",
      "conv2d_91 (Conv2D)           (None, 14, 14, 64)        8256      \n",
      "_________________________________________________________________\n",
      "dropout_51 (Dropout)         (None, 14, 14, 64)        0         \n",
      "_________________________________________________________________\n",
      "conv2d_92 (Conv2D)           (None, 14, 14, 128)       32896     \n",
      "_________________________________________________________________\n",
      "max_pooling2d_63 (MaxPooling (None, 7, 7, 128)         0         \n",
      "_________________________________________________________________\n",
      "dropout_52 (Dropout)         (None, 7, 7, 128)         0         \n",
      "_________________________________________________________________\n",
      "conv2d_93 (Conv2D)           (None, 7, 7, 196)         100548    \n",
      "_________________________________________________________________\n",
      "max_pooling2d_64 (MaxPooling (None, 3, 3, 196)         0         \n",
      "_________________________________________________________________\n",
      "dropout_53 (Dropout)         (None, 3, 3, 196)         0         \n",
      "_________________________________________________________________\n",
      "conv2d_94 (Conv2D)           (None, 3, 3, 256)         200960    \n",
      "_________________________________________________________________\n",
      "dropout_54 (Dropout)         (None, 3, 3, 256)         0         \n",
      "_________________________________________________________________\n",
      "conv2d_95 (Conv2D)           (None, 3, 3, 512)         524800    \n",
      "_________________________________________________________________\n",
      "max_pooling2d_65 (MaxPooling (None, 1, 1, 512)         0         \n",
      "_________________________________________________________________\n",
      "dropout_55 (Dropout)         (None, 1, 1, 512)         0         \n",
      "_________________________________________________________________\n",
      "flatten_19 (Flatten)         (None, 512)               0         \n",
      "_________________________________________________________________\n",
      "dense_37 (Dense)             (None, 256)               131328    \n",
      "_________________________________________________________________\n",
      "batch_normalization_40 (Batc (None, 256)               1024      \n",
      "_________________________________________________________________\n",
      "dense_38 (Dense)             (None, 10)                2570      \n",
      "=================================================================\n",
      "Total params: 1,004,542\n",
      "Trainable params: 1,004,030\n",
      "Non-trainable params: 512\n",
      "_________________________________________________________________\n",
      "None\n"
     ]
    }
   ],
   "source": [
    "convnet7=Sequential() # Initializing the model\n",
    "\n",
    "# First ConvNet\n",
    "convnet7.add(Conv2D(16,kernel_size=(2,2),\n",
    "                    activation='relu',\n",
    "                    padding='same',strides=(1,1),\n",
    "                    input_shape=input_shape))\n",
    "\n",
    "# Second ConvNet\n",
    "\n",
    "convnet7.add(Conv2D(32,kernel_size=(2,2),\n",
    "                    padding='same',strides=(2,2),\n",
    "                    activation='relu'))\n",
    "convnet7.add(Dropout(0.4))\n",
    "\n",
    "\n",
    "# Third ConvNet\n",
    "\n",
    "convnet7.add(Conv2D(64,kernel_size=(2,2),\n",
    "                    padding='same',\n",
    "                   activation='relu'))  \n",
    "convnet7.add(Dropout(0.4))\n",
    "\n",
    "# Fourth ConvNet\n",
    "\n",
    "convnet7.add(Conv2D(128,kernel_size=(2,2),\n",
    "                    padding='same',\n",
    "                    activation='relu'))\n",
    "convnet7.add(MaxPooling2D(pool_size=(2,2)))\n",
    "convnet7.add(Dropout(0.4))\n",
    "\n",
    "# Fifth ConvNet\n",
    "\n",
    "convnet7.add(Conv2D(196,kernel_size=(2,2),\n",
    "                    padding='same',\n",
    "                    activation='relu'))\n",
    "convnet7.add(MaxPooling2D(pool_size=(2,2)))\n",
    "convnet7.add(Dropout(0.4))\n",
    "\n",
    "# Sixth ConvNet\n",
    "convnet7.add(Conv2D(256,kernel_size=(2,2),\n",
    "                    padding='same',\n",
    "                    activation='relu'))\n",
    "convnet7.add(Dropout(0.4))\n",
    "\n",
    "# Seventh Convnet\n",
    "\n",
    "convnet7.add(Conv2D(512,kernel_size=(2,2),\n",
    "                    padding='same',strides=(1,1),\n",
    "                    activation='relu'))\n",
    "\n",
    "convnet7.add(MaxPooling2D(pool_size=(2,2)))\n",
    "convnet7.add(Dropout(0.4))\n",
    "convnet7.add(Flatten())\n",
    "\n",
    "#hidden_layer\n",
    "convnet7.add(Dense(256,\n",
    "                   activation='relu',\n",
    "                   kernel_initializer=he_normal(seed=None)))\n",
    "convnet7.add(BatchNormalization())\n",
    "convnet7.add(Dense(num_classes,activation='softmax'))\n",
    "print(convnet7.summary())"
   ]
  },
  {
   "cell_type": "code",
   "execution_count": 58,
   "metadata": {},
   "outputs": [
    {
     "name": "stdout",
     "output_type": "stream",
     "text": [
      "Train on 60000 samples, validate on 10000 samples\n",
      "Epoch 1/12\n",
      "60000/60000 [==============================] - 374s 6ms/step - loss: 1.5306 - acc: 0.4697 - val_loss: 1.3654 - val_acc: 0.6172\n",
      "Epoch 2/12\n",
      "60000/60000 [==============================] - 360s 6ms/step - loss: 0.6378 - acc: 0.7902 - val_loss: 0.3713 - val_acc: 0.8765\n",
      "Epoch 3/12\n",
      "60000/60000 [==============================] - 357s 6ms/step - loss: 0.5432 - acc: 0.8243 - val_loss: 0.3415 - val_acc: 0.8839\n",
      "Epoch 4/12\n",
      "60000/60000 [==============================] - 358s 6ms/step - loss: 0.4418 - acc: 0.8603 - val_loss: 0.2511 - val_acc: 0.9173\n",
      "Epoch 5/12\n",
      "60000/60000 [==============================] - 357s 6ms/step - loss: 0.3779 - acc: 0.8793 - val_loss: 0.2171 - val_acc: 0.9303\n",
      "Epoch 6/12\n",
      "60000/60000 [==============================] - 358s 6ms/step - loss: 0.3349 - acc: 0.8938 - val_loss: 0.1754 - val_acc: 0.9448\n",
      "Epoch 7/12\n",
      "60000/60000 [==============================] - 386s 6ms/step - loss: 0.3059 - acc: 0.9034 - val_loss: 0.1743 - val_acc: 0.9427\n",
      "Epoch 8/12\n",
      "60000/60000 [==============================] - 354s 6ms/step - loss: 0.2795 - acc: 0.9114 - val_loss: 0.1388 - val_acc: 0.9543\n",
      "Epoch 9/12\n",
      "60000/60000 [==============================] - 370s 6ms/step - loss: 0.2537 - acc: 0.9194 - val_loss: 0.1310 - val_acc: 0.9583\n",
      "Epoch 10/12\n",
      "60000/60000 [==============================] - 374s 6ms/step - loss: 0.2224 - acc: 0.9297 - val_loss: 0.1182 - val_acc: 0.9620\n",
      "Epoch 11/12\n",
      "60000/60000 [==============================] - 358s 6ms/step - loss: 0.2051 - acc: 0.9355 - val_loss: 0.0994 - val_acc: 0.9681\n",
      "Epoch 12/12\n",
      "60000/60000 [==============================] - 359s 6ms/step - loss: 0.1828 - acc: 0.9418 - val_loss: 0.0961 - val_acc: 0.9681\n"
     ]
    }
   ],
   "source": [
    "convnet7.compile(optimizer=keras.optimizers.Adam(),\n",
    "                loss=keras.losses.categorical_crossentropy,\n",
    "                metrics=['accuracy'])\n",
    "convnet7_history=convnet7.fit(x_train,y_train,batch_size=batch_size,\n",
    "                             epochs=epochs,\n",
    "                             verbose=1,\n",
    "                             validation_data=(x_test, y_test))"
   ]
  },
  {
   "cell_type": "code",
   "execution_count": 59,
   "metadata": {},
   "outputs": [
    {
     "name": "stdout",
     "output_type": "stream",
     "text": [
      "test score : 0.09609409679695964\n",
      "test Accuracy : 0.9681\n"
     ]
    },
    {
     "data": {
      "image/png": "[encoded data removed]",
      "text/plain": [
       "<Figure size 432x288 with 1 Axes>"
      ]
     },
     "metadata": {},
     "output_type": "display_data"
    }
   ],
   "source": [
    "#evaluating model\n",
    "score=convnet7.evaluate(x_test,y_test,verbose=0)\n",
    "test_score7=score[0]\n",
    "test_accuracy7=score[1]\n",
    "train_accuracy7=max(convnet7_history.history['acc'])\n",
    "print('test score :',test_score7)\n",
    "print('test Accuracy :',test_accuracy7)\n",
    "# error plot\n",
    "x=list(range(1,epochs+1))\n",
    "vy=convnet7_history.history['val_loss'] \n",
    "ty=convnet7_history.history['loss'] \n",
    "plt_dynamic(x, vy, ty)"
   ]
  },
  {
   "cell_type": "markdown",
   "metadata": {},
   "source": [
    "### With batch normalization and dropout(0.3)"
   ]
  },
  {
   "cell_type": "code",
   "execution_count": 60,
   "metadata": {},
   "outputs": [
    {
     "name": "stdout",
     "output_type": "stream",
     "text": [
      "Model: \"sequential_21\"\n",
      "_________________________________________________________________\n",
      "Layer (type)                 Output Shape              Param #   \n",
      "=================================================================\n",
      "conv2d_96 (Conv2D)           (None, 28, 28, 16)        80        \n",
      "_________________________________________________________________\n",
      "conv2d_97 (Conv2D)           (None, 14, 14, 32)        2080      \n",
      "_________________________________________________________________\n",
      "dropout_56 (Dropout)         (None, 14, 14, 32)        0         \n",
      "_________________________________________________________________\n",
      "batch_normalization_41 (Batc (None, 14, 14, 32)        128       \n",
      "_________________________________________________________________\n",
      "conv2d_98 (Conv2D)           (None, 14, 14, 64)        8256      \n",
      "_________________________________________________________________\n",
      "dropout_57 (Dropout)         (None, 14, 14, 64)        0         \n",
      "_________________________________________________________________\n",
      "batch_normalization_42 (Batc (None, 14, 14, 64)        256       \n",
      "_________________________________________________________________\n",
      "conv2d_99 (Conv2D)           (None, 14, 14, 128)       32896     \n",
      "_________________________________________________________________\n",
      "max_pooling2d_66 (MaxPooling (None, 7, 7, 128)         0         \n",
      "_________________________________________________________________\n",
      "dropout_58 (Dropout)         (None, 7, 7, 128)         0         \n",
      "_________________________________________________________________\n",
      "batch_normalization_43 (Batc (None, 7, 7, 128)         512       \n",
      "_________________________________________________________________\n",
      "conv2d_100 (Conv2D)          (None, 7, 7, 196)         100548    \n",
      "_________________________________________________________________\n",
      "max_pooling2d_67 (MaxPooling (None, 3, 3, 196)         0         \n",
      "_________________________________________________________________\n",
      "dropout_59 (Dropout)         (None, 3, 3, 196)         0         \n",
      "_________________________________________________________________\n",
      "batch_normalization_44 (Batc (None, 3, 3, 196)         784       \n",
      "_________________________________________________________________\n",
      "conv2d_101 (Conv2D)          (None, 3, 3, 256)         200960    \n",
      "_________________________________________________________________\n",
      "dropout_60 (Dropout)         (None, 3, 3, 256)         0         \n",
      "_________________________________________________________________\n",
      "batch_normalization_45 (Batc (None, 3, 3, 256)         1024      \n",
      "_________________________________________________________________\n",
      "conv2d_102 (Conv2D)          (None, 3, 3, 512)         524800    \n",
      "_________________________________________________________________\n",
      "max_pooling2d_68 (MaxPooling (None, 1, 1, 512)         0         \n",
      "_________________________________________________________________\n",
      "dropout_61 (Dropout)         (None, 1, 1, 512)         0         \n",
      "_________________________________________________________________\n",
      "batch_normalization_46 (Batc (None, 1, 1, 512)         2048      \n",
      "_________________________________________________________________\n",
      "flatten_20 (Flatten)         (None, 512)               0         \n",
      "_________________________________________________________________\n",
      "dense_39 (Dense)             (None, 256)               131328    \n",
      "_________________________________________________________________\n",
      "dense_40 (Dense)             (None, 10)                2570      \n",
      "=================================================================\n",
      "Total params: 1,008,270\n",
      "Trainable params: 1,005,894\n",
      "Non-trainable params: 2,376\n",
      "_________________________________________________________________\n",
      "None\n"
     ]
    }
   ],
   "source": [
    "convnet7=Sequential() # Initializing the model\n",
    "\n",
    "# First ConvNet\n",
    "convnet7.add(Conv2D(16,kernel_size=(2,2),\n",
    "                    activation='relu',\n",
    "                    padding='same',strides=(1,1),\n",
    "                    input_shape=input_shape))\n",
    "\n",
    "# Second ConvNet\n",
    "\n",
    "convnet7.add(Conv2D(32,kernel_size=(2,2),\n",
    "                    padding='same',strides=(2,2),\n",
    "                    activation='relu'))\n",
    "convnet7.add(Dropout(0.3))\n",
    "convnet7.add(BatchNormalization())\n",
    "\n",
    "# Third ConvNet\n",
    "\n",
    "convnet7.add(Conv2D(64,kernel_size=(2,2),\n",
    "                    padding='same',\n",
    "                   activation='relu'))  \n",
    "convnet7.add(Dropout(0.3))\n",
    "convnet7.add(BatchNormalization())\n",
    "\n",
    "# Fourth ConvNet\n",
    "\n",
    "convnet7.add(Conv2D(128,kernel_size=(2,2),\n",
    "                    padding='same',\n",
    "                    activation='relu'))\n",
    "convnet7.add(MaxPooling2D(pool_size=(2,2)))\n",
    "convnet7.add(Dropout(0.3))\n",
    "convnet7.add(BatchNormalization())\n",
    "\n",
    "# Fifth ConvNet\n",
    "\n",
    "convnet7.add(Conv2D(196,kernel_size=(2,2),\n",
    "                    padding='same',\n",
    "                    activation='relu'))\n",
    "convnet7.add(MaxPooling2D(pool_size=(2,2)))\n",
    "convnet7.add(Dropout(0.3))\n",
    "convnet7.add(BatchNormalization())\n",
    "\n",
    "# Sixth ConvNet\n",
    "convnet7.add(Conv2D(256,kernel_size=(2,2),\n",
    "                    padding='same',\n",
    "                    activation='relu'))\n",
    "convnet7.add(Dropout(0.3))\n",
    "convnet7.add(BatchNormalization())\n",
    "\n",
    "# Seventh Convnet\n",
    "\n",
    "convnet7.add(Conv2D(512,kernel_size=(2,2),\n",
    "                    padding='same',strides=(1,1),\n",
    "                    activation='relu'))\n",
    "\n",
    "convnet7.add(MaxPooling2D(pool_size=(2,2)))\n",
    "convnet7.add(Dropout(0.3))\n",
    "convnet7.add(BatchNormalization())\n",
    "convnet7.add(Flatten())\n",
    "\n",
    "#hidden_layer\n",
    "convnet7.add(Dense(256,\n",
    "                   activation='relu',\n",
    "                   kernel_initializer=he_normal(seed=None)))\n",
    "convnet7.add(Dense(num_classes,activation='softmax'))\n",
    "print(convnet7.summary())"
   ]
  },
  {
   "cell_type": "code",
   "execution_count": 62,
   "metadata": {},
   "outputs": [
    {
     "name": "stdout",
     "output_type": "stream",
     "text": [
      "Train on 60000 samples, validate on 10000 samples\n",
      "Epoch 1/12\n",
      "60000/60000 [==============================] - 537s 9ms/step - loss: 0.3595 - acc: 0.8803 - val_loss: 0.1159 - val_acc: 0.9659\n",
      "Epoch 2/12\n",
      "60000/60000 [==============================] - 529s 9ms/step - loss: 0.1244 - acc: 0.9610 - val_loss: 0.0647 - val_acc: 0.9820\n",
      "Epoch 3/12\n",
      "60000/60000 [==============================] - 535s 9ms/step - loss: 0.0896 - acc: 0.9717 - val_loss: 0.0548 - val_acc: 0.9837\n",
      "Epoch 4/12\n",
      "60000/60000 [==============================] - 622s 10ms/step - loss: 0.0747 - acc: 0.9767 - val_loss: 0.0493 - val_acc: 0.9850\n",
      "Epoch 5/12\n",
      "60000/60000 [==============================] - 599s 10ms/step - loss: 0.0627 - acc: 0.9807 - val_loss: 0.0516 - val_acc: 0.9858\n",
      "Epoch 6/12\n",
      "60000/60000 [==============================] - 535s 9ms/step - loss: 0.0584 - acc: 0.9812 - val_loss: 0.0886 - val_acc: 0.9761\n",
      "Epoch 7/12\n",
      "60000/60000 [==============================] - 525s 9ms/step - loss: 0.0524 - acc: 0.9834 - val_loss: 0.0318 - val_acc: 0.9905\n",
      "Epoch 8/12\n",
      "60000/60000 [==============================] - 522s 9ms/step - loss: 0.0483 - acc: 0.9852 - val_loss: 0.0268 - val_acc: 0.9923\n",
      "Epoch 9/12\n",
      "60000/60000 [==============================] - 521s 9ms/step - loss: 0.0444 - acc: 0.9858 - val_loss: 0.0255 - val_acc: 0.9930\n",
      "Epoch 10/12\n",
      "60000/60000 [==============================] - 547s 9ms/step - loss: 0.0403 - acc: 0.9875 - val_loss: 0.0283 - val_acc: 0.9923\n",
      "Epoch 11/12\n",
      "60000/60000 [==============================] - 574s 10ms/step - loss: 0.0381 - acc: 0.9880 - val_loss: 0.0309 - val_acc: 0.9927\n",
      "Epoch 12/12\n",
      "60000/60000 [==============================] - 527s 9ms/step - loss: 0.0378 - acc: 0.9883 - val_loss: 0.0269 - val_acc: 0.9930\n"
     ]
    }
   ],
   "source": [
    "convnet7.compile(optimizer=keras.optimizers.Adam(),\n",
    "                loss=keras.losses.categorical_crossentropy,\n",
    "                metrics=['accuracy'])\n",
    "convnet7_history=convnet7.fit(x_train,y_train,batch_size=batch_size,\n",
    "                             epochs=epochs,\n",
    "                             verbose=1,\n",
    "                             validation_data=(x_test, y_test))"
   ]
  },
  {
   "cell_type": "code",
   "execution_count": 63,
   "metadata": {},
   "outputs": [
    {
     "name": "stdout",
     "output_type": "stream",
     "text": [
      "test score : 0.02688342617054659\n",
      "test Accuracy : 0.993\n"
     ]
    },
    {
     "data": {
      "image/png": "[encoded data removed]",
      "text/plain": [
       "<Figure size 432x288 with 1 Axes>"
      ]
     },
     "metadata": {},
     "output_type": "display_data"
    }
   ],
   "source": [
    "#evaluating model\n",
    "score=convnet7.evaluate(x_test,y_test,verbose=0)\n",
    "test_score7=score[0]\n",
    "test_accuracy7=score[1]\n",
    "train_accuracy7=max(convnet7_history.history['acc'])\n",
    "print('test score :',test_score7)\n",
    "print('test Accuracy :',test_accuracy7)\n",
    "# error plot\n",
    "x=list(range(1,epochs+1))\n",
    "vy=convnet7_history.history['val_loss'] \n",
    "ty=convnet7_history.history['loss'] \n",
    "plt_dynamic(x, vy, ty)"
   ]
  },
  {
   "cell_type": "markdown",
   "metadata": {},
   "source": [
    "## Observation"
   ]
  },
  {
   "cell_type": "code",
   "execution_count": 64,
   "metadata": {},
   "outputs": [
    {
     "name": "stdout",
     "output_type": "stream",
     "text": [
      "+----------------------------------------------------+-------------+-----------+----------+------------+\n",
      "|                     Model name                     | Kernal Size | Train-AUC | Test-AUC | Test Score |\n",
      "+----------------------------------------------------+-------------+-----------+----------+------------+\n",
      "|               3 ConvNet with dropout               |     3x3     |   0.995   |  0.9926  |   0.0257   |\n",
      "| 3 ConvNet without dropout and batch normalization  |     3x3     |    1.0    |  0.9942  |   0.0369   |\n",
      "|               3 ConvNet with dropout               |     3x3     |   0.9984  |  0.9935  |   0.0217   |\n",
      "|   3 ConvNet with dropout and batch normalization   |     3x3     |   0.3987  |  0.2134  |   11.57    |\n",
      "|               5 ConvNet with dropout               |     5x5     |   0.9888  |  0.9934  |   0.0214   |\n",
      "| 5 ConvNet without dropout and batch normalization  |     5x5     |   0.9987  |  0.9913  |   0.0313   |\n",
      "|               5 ConvNet with dropout               |     5x5     |   0.1127  |  0.1135  |   14.289   |\n",
      "|   5 ConvNet with dropout and batch normalization   |     5x5     |   0.9871  |  0.9908  |   0.0352   |\n",
      "|               7 ConvNet with dropout               |     2x2     |   0.9893  |  0.9938  |   0.0219   |\n",
      "|         7 ConvNet with batch normalization         |     2x2     |   0.9963  |  0.9823  |   0.0718   |\n",
      "|               7 ConvNet with dropout               |     2x2     |   0.9418  |  0.9681  |   0.096    |\n",
      "|   7 ConvNet with dropout and batch normalization   |     2x2     |   0.9883  |  0.993   |   0.0269   |\n",
      "+----------------------------------------------------+-------------+-----------+----------+------------+\n"
     ]
    }
   ],
   "source": [
    "from prettytable import PrettyTable\n",
    "\n",
    "x_pretty_table = PrettyTable()\n",
    "x_pretty_table.field_names = [\"Model name\",\"Kernal Size\",\"Train-AUC\",\"Test-AUC\",\"Test Score\"]\n",
    "\n",
    "x_pretty_table.add_row([\"3 ConvNet with dropout\",\"3x3\",0.9950,0.9926,0.0257])\n",
    "x_pretty_table.add_row([\"3 ConvNet without dropout and batch normalization\",\"3x3\",1.0000,0.9942,0.0369])\n",
    "x_pretty_table.add_row([\"3 ConvNet with dropout\",\"3x3\",0.9984,0.9935,0.0217])\n",
    "x_pretty_table.add_row([\"3 ConvNet with dropout and batch normalization\",\"3x3\",0.3987,0.2134,11.57])\n",
    "\n",
    "x_pretty_table.add_row([\"5 ConvNet with dropout\",\"5x5\",0.9888,0.9934,0.0214])\n",
    "x_pretty_table.add_row([\"5 ConvNet without dropout and batch normalization \",\"5x5\",0.9987,0.9913,0.0313])\n",
    "x_pretty_table.add_row([\"5 ConvNet with dropout\",\"5x5\",0.1127,0.1135,14.289])\n",
    "x_pretty_table.add_row([\"5 ConvNet with dropout and batch normalization\",\"5x5\",0.9871,0.9908,0.0352])\n",
    "\n",
    "x_pretty_table.add_row([\"7 ConvNet with dropout\",\"2x2\",0.9893,0.9938,0.0219])\n",
    "x_pretty_table.add_row([\"7 ConvNet with batch normalization\",\"2x2\",0.9963,0.9823,0.0718])\n",
    "x_pretty_table.add_row([\"7 ConvNet with dropout\",\"2x2\",0.9418,0.9681,0.0960])\n",
    "x_pretty_table.add_row([\"7 ConvNet with dropout and batch normalization\",\"2x2\",0.9883,0.993,0.0269])\n",
    "\n",
    "print(x_pretty_table)\n",
    "\n",
    "\n"
   ]
  },
  {
   "cell_type": "markdown",
   "metadata": {},
   "source": [
    "### Tried three CNN architecture on MNIST dataset \n",
    "#### 1.Most of the models are giving good performance\n",
    "#### 2.Models without dropout tries to overfit the train data\n",
    "#### 3.3 CNN model with dropout,batch normalization and 5 CNN model with dropout gives bad results\n",
    "#### 4.Represented the all three architectures results using prettytable library\n"
   ]
  },
  {
   "cell_type": "code",
   "execution_count": null,
   "metadata": {},
   "outputs": [],
   "source": []
  }
 ],
 "metadata": {
  "colab": {
   "collapsed_sections": [],
   "name": "CNN_MNIST.ipynb",
   "provenance": [],
   "version": "0.3.2"
  },
  "kernelspec": {
   "display_name": "Python 3",
   "language": "python",
   "name": "python3"
  },
  "language_info": {
   "codemirror_mode": {
    "name": "ipython",
    "version": 3
   },
   "file_extension": ".py",
   "mimetype": "text/x-python",
   "name": "python",
   "nbconvert_exporter": "python",
   "pygments_lexer": "ipython3",
   "version": "3.6.5"
  }
 },
 "nbformat": 4,
 "nbformat_minor": 1
}
