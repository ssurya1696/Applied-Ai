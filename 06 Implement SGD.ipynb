{
 "cells": [
  {
   "cell_type": "code",
   "execution_count": 38,
   "metadata": {},
   "outputs": [],
   "source": [
    "#https://towardsdatascience.com/linear-regression-on-boston-housing-dataset-f409b7e4a155"
   ]
  },
  {
   "cell_type": "markdown",
   "metadata": {},
   "source": [
    "### We will use pandas and scikit-learn to load and explore the dataset"
   ]
  },
  {
   "cell_type": "code",
   "execution_count": 39,
   "metadata": {},
   "outputs": [],
   "source": [
    "from sklearn.datasets import load_boston\n",
    "boston = load_boston()"
   ]
  },
  {
   "cell_type": "code",
   "execution_count": 40,
   "metadata": {},
   "outputs": [
    {
     "data": {
      "text/plain": [
       "dict_keys(['data', 'target', 'feature_names', 'DESCR', 'filename'])"
      ]
     },
     "execution_count": 40,
     "metadata": {},
     "output_type": "execute_result"
    }
   ],
   "source": [
    "boston.keys() # there are 5 keys:'data', 'target', 'feature_names', 'DESCR', 'filename'"
   ]
  },
  {
   "cell_type": "code",
   "execution_count": 42,
   "metadata": {},
   "outputs": [
    {
     "data": {
      "text/plain": [
       "(506, 13)"
      ]
     },
     "execution_count": 42,
     "metadata": {},
     "output_type": "execute_result"
    }
   ],
   "source": [
    "boston.data.shape"
   ]
  },
  {
   "cell_type": "code",
   "execution_count": 43,
   "metadata": {},
   "outputs": [
    {
     "data": {
      "text/plain": [
       "(506,)"
      ]
     },
     "execution_count": 43,
     "metadata": {},
     "output_type": "execute_result"
    }
   ],
   "source": [
    "boston.target.shape #there are 13 features and one target"
   ]
  },
  {
   "cell_type": "code",
   "execution_count": 44,
   "metadata": {},
   "outputs": [
    {
     "data": {
      "text/plain": [
       "array(['CRIM', 'ZN', 'INDUS', 'CHAS', 'NOX', 'RM', 'AGE', 'DIS', 'RAD',\n",
       "       'TAX', 'PTRATIO', 'B', 'LSTAT'], dtype='<U7')"
      ]
     },
     "execution_count": 44,
     "metadata": {},
     "output_type": "execute_result"
    }
   ],
   "source": [
    "boston.feature_names"
   ]
  },
  {
   "cell_type": "markdown",
   "metadata": {},
   "source": [
    "### Description of each column name in this dataset"
   ]
  },
  {
   "cell_type": "code",
   "execution_count": 46,
   "metadata": {},
   "outputs": [
    {
     "name": "stdout",
     "output_type": "stream",
     "text": [
      ".. _boston_dataset:\n",
      "\n",
      "Boston house prices dataset\n",
      "---------------------------\n",
      "\n",
      "**Data Set Characteristics:**  \n",
      "\n",
      "    :Number of Instances: 506 \n",
      "\n",
      "    :Number of Attributes: 13 numeric/categorical predictive. Median Value (attribute 14) is usually the target.\n",
      "\n",
      "    :Attribute Information (in order):\n",
      "        - CRIM     per capita crime rate by town\n",
      "        - ZN       proportion of residential land zoned for lots over 25,000 sq.ft.\n",
      "        - INDUS    proportion of non-retail business acres per town\n",
      "        - CHAS     Charles River dummy variable (= 1 if tract bounds river; 0 otherwise)\n",
      "        - NOX      nitric oxides concentration (parts per 10 million)\n",
      "        - RM       average number of rooms per dwelling\n",
      "        - AGE      proportion of owner-occupied units built prior to 1940\n",
      "        - DIS      weighted distances to five Boston employment centres\n",
      "        - RAD      index of accessibility to radial highways\n",
      "        - TAX      full-value property-tax rate per $10,000\n",
      "        - PTRATIO  pupil-teacher ratio by town\n",
      "        - B        1000(Bk - 0.63)^2 where Bk is the proportion of blacks by town\n",
      "        - LSTAT    % lower status of the population\n",
      "        - MEDV     Median value of owner-occupied homes in $1000's\n",
      "\n",
      "    :Missing Attribute Values: None\n",
      "\n",
      "    :Creator: Harrison, D. and Rubinfeld, D.L.\n",
      "\n",
      "This is a copy of UCI ML housing dataset.\n",
      "https://archive.ics.uci.edu/ml/machine-learning-databases/housing/\n",
      "\n",
      "\n",
      "This dataset was taken from the StatLib library which is maintained at Carnegie Mellon University.\n",
      "\n",
      "The Boston house-price data of Harrison, D. and Rubinfeld, D.L. 'Hedonic\n",
      "prices and the demand for clean air', J. Environ. Economics & Management,\n",
      "vol.5, 81-102, 1978.   Used in Belsley, Kuh & Welsch, 'Regression diagnostics\n",
      "...', Wiley, 1980.   N.B. Various transformations are used in the table on\n",
      "pages 244-261 of the latter.\n",
      "\n",
      "The Boston house-price data has been used in many machine learning papers that address regression\n",
      "problems.   \n",
      "     \n",
      ".. topic:: References\n",
      "\n",
      "   - Belsley, Kuh & Welsch, 'Regression diagnostics: Identifying Influential Data and Sources of Collinearity', Wiley, 1980. 244-261.\n",
      "   - Quinlan,R. (1993). Combining Instance-Based and Model-Based Learning. In Proceedings on the Tenth International Conference of Machine Learning, 236-243, University of Massachusetts, Amherst. Morgan Kaufmann.\n",
      "\n"
     ]
    }
   ],
   "source": [
    "print(boston.DESCR)"
   ]
  },
  {
   "cell_type": "markdown",
   "metadata": {},
   "source": [
    "### Exploratory data analysis"
   ]
  },
  {
   "cell_type": "code",
   "execution_count": 47,
   "metadata": {},
   "outputs": [
    {
     "name": "stdout",
     "output_type": "stream",
     "text": [
      "        0     1     2    3      4      5     6       7    8      9     10  \\\n",
      "0  0.00632  18.0  2.31  0.0  0.538  6.575  65.2  4.0900  1.0  296.0  15.3   \n",
      "1  0.02731   0.0  7.07  0.0  0.469  6.421  78.9  4.9671  2.0  242.0  17.8   \n",
      "2  0.02729   0.0  7.07  0.0  0.469  7.185  61.1  4.9671  2.0  242.0  17.8   \n",
      "3  0.03237   0.0  2.18  0.0  0.458  6.998  45.8  6.0622  3.0  222.0  18.7   \n",
      "4  0.06905   0.0  2.18  0.0  0.458  7.147  54.2  6.0622  3.0  222.0  18.7   \n",
      "\n",
      "       11    12  \n",
      "0  396.90  4.98  \n",
      "1  396.90  9.14  \n",
      "2  392.83  4.03  \n",
      "3  394.63  2.94  \n",
      "4  396.90  5.33  \n"
     ]
    }
   ],
   "source": [
    "df = pd.DataFrame(boston.data)\n",
    "print(df.head())\n",
    "\n"
   ]
  },
  {
   "cell_type": "code",
   "execution_count": 48,
   "metadata": {},
   "outputs": [
    {
     "name": "stdout",
     "output_type": "stream",
     "text": [
      "      CRIM    ZN  INDUS  CHAS    NOX     RM   AGE     DIS  RAD    TAX  \\\n",
      "0  0.00632  18.0   2.31   0.0  0.538  6.575  65.2  4.0900  1.0  296.0   \n",
      "1  0.02731   0.0   7.07   0.0  0.469  6.421  78.9  4.9671  2.0  242.0   \n",
      "2  0.02729   0.0   7.07   0.0  0.469  7.185  61.1  4.9671  2.0  242.0   \n",
      "3  0.03237   0.0   2.18   0.0  0.458  6.998  45.8  6.0622  3.0  222.0   \n",
      "4  0.06905   0.0   2.18   0.0  0.458  7.147  54.2  6.0622  3.0  222.0   \n",
      "\n",
      "   PTRATIO       B  LSTAT  \n",
      "0     15.3  396.90   4.98  \n",
      "1     17.8  396.90   9.14  \n",
      "2     17.8  392.83   4.03  \n",
      "3     18.7  394.63   2.94  \n",
      "4     18.7  396.90   5.33  \n"
     ]
    }
   ],
   "source": [
    "df.columns = boston.feature_names\n",
    "print(df.head())\n",
    "\n"
   ]
  },
  {
   "cell_type": "code",
   "execution_count": 49,
   "metadata": {},
   "outputs": [
    {
     "name": "stdout",
     "output_type": "stream",
     "text": [
      "      CRIM    ZN  INDUS  CHAS    NOX     RM   AGE     DIS  RAD    TAX  \\\n",
      "0  0.00632  18.0   2.31   0.0  0.538  6.575  65.2  4.0900  1.0  296.0   \n",
      "1  0.02731   0.0   7.07   0.0  0.469  6.421  78.9  4.9671  2.0  242.0   \n",
      "2  0.02729   0.0   7.07   0.0  0.469  7.185  61.1  4.9671  2.0  242.0   \n",
      "3  0.03237   0.0   2.18   0.0  0.458  6.998  45.8  6.0622  3.0  222.0   \n",
      "4  0.06905   0.0   2.18   0.0  0.458  7.147  54.2  6.0622  3.0  222.0   \n",
      "\n",
      "   PTRATIO       B  LSTAT  PRICE  \n",
      "0     15.3  396.90   4.98   24.0  \n",
      "1     17.8  396.90   9.14   21.6  \n",
      "2     17.8  392.83   4.03   34.7  \n",
      "3     18.7  394.63   2.94   33.4  \n",
      "4     18.7  396.90   5.33   36.2  \n"
     ]
    }
   ],
   "source": [
    "df[\"PRICE\"] = boston.target\n",
    "print(df.head())\n"
   ]
  },
  {
   "cell_type": "code",
   "execution_count": 50,
   "metadata": {},
   "outputs": [
    {
     "name": "stdout",
     "output_type": "stream",
     "text": [
      "             CRIM          ZN       INDUS        CHAS         NOX          RM  \\\n",
      "count  506.000000  506.000000  506.000000  506.000000  506.000000  506.000000   \n",
      "mean     3.613524   11.363636   11.136779    0.069170    0.554695    6.284634   \n",
      "std      8.601545   23.322453    6.860353    0.253994    0.115878    0.702617   \n",
      "min      0.006320    0.000000    0.460000    0.000000    0.385000    3.561000   \n",
      "25%      0.082045    0.000000    5.190000    0.000000    0.449000    5.885500   \n",
      "50%      0.256510    0.000000    9.690000    0.000000    0.538000    6.208500   \n",
      "75%      3.677083   12.500000   18.100000    0.000000    0.624000    6.623500   \n",
      "max     88.976200  100.000000   27.740000    1.000000    0.871000    8.780000   \n",
      "\n",
      "              AGE         DIS         RAD         TAX     PTRATIO           B  \\\n",
      "count  506.000000  506.000000  506.000000  506.000000  506.000000  506.000000   \n",
      "mean    68.574901    3.795043    9.549407  408.237154   18.455534  356.674032   \n",
      "std     28.148861    2.105710    8.707259  168.537116    2.164946   91.294864   \n",
      "min      2.900000    1.129600    1.000000  187.000000   12.600000    0.320000   \n",
      "25%     45.025000    2.100175    4.000000  279.000000   17.400000  375.377500   \n",
      "50%     77.500000    3.207450    5.000000  330.000000   19.050000  391.440000   \n",
      "75%     94.075000    5.188425   24.000000  666.000000   20.200000  396.225000   \n",
      "max    100.000000   12.126500   24.000000  711.000000   22.000000  396.900000   \n",
      "\n",
      "            LSTAT       PRICE  \n",
      "count  506.000000  506.000000  \n",
      "mean    12.653063   22.532806  \n",
      "std      7.141062    9.197104  \n",
      "min      1.730000    5.000000  \n",
      "25%      6.950000   17.025000  \n",
      "50%     11.360000   21.200000  \n",
      "75%     16.955000   25.000000  \n",
      "max     37.970000   50.000000  \n"
     ]
    }
   ],
   "source": [
    "print(df.describe())\n"
   ]
  },
  {
   "cell_type": "code",
   "execution_count": 65,
   "metadata": {},
   "outputs": [
    {
     "data": {
      "text/plain": [
       "<matplotlib.axes._subplots.AxesSubplot at 0x1dac21cf4e0>"
      ]
     },
     "execution_count": 65,
     "metadata": {},
     "output_type": "execute_result"
    },
    {
     "data": {
      "image/png": "[encoded data removed]",
      "text/plain": [
       "<Figure size 720x504 with 1 Axes>"
      ]
     },
     "metadata": {},
     "output_type": "display_data"
    }
   ],
   "source": [
    "plt.figure(figsize=(10,7))\n",
    "\n",
    "sns.distplot(df['PRICE'])\n",
    "\n",
    "#there are different data distributions\n"
   ]
  },
  {
   "cell_type": "markdown",
   "metadata": {},
   "source": [
    "### Test/Train Split and training regression models"
   ]
  },
  {
   "cell_type": "code",
   "execution_count": 55,
   "metadata": {},
   "outputs": [
    {
     "name": "stdout",
     "output_type": "stream",
     "text": [
      "(354, 13)\n",
      "(152, 13)\n",
      "(354,)\n",
      "(152,)\n"
     ]
    }
   ],
   "source": [
    "import sklearn.model_selection\n",
    "X_train, X_test, Y_train, Y_test = sklearn.model_selection.train_test_split(X, Y, test_size = 0.30, random_state = 5)\n",
    "print(X_train.shape)\n",
    "print(X_test.shape)\n",
    "print(Y_train.shape)\n",
    "print(Y_test.shape)"
   ]
  },
  {
   "cell_type": "code",
   "execution_count": 59,
   "metadata": {},
   "outputs": [
    {
     "name": "stdout",
     "output_type": "stream",
     "text": [
      "(354, 1)\n",
      "% of NaN Before Imputation in Price: 0.0\n"
     ]
    }
   ],
   "source": [
    "#replacing missing data with substituted values\n",
    "\n",
    "from sklearn import preprocessing\n",
    "std_bos_df = preprocessing.StandardScaler()\n",
    "X_train = std_bos_df.fit_transform(X_train)\n",
    "X_test=std_bos_df.transform(X_test)\n",
    "\n",
    "y_im = pd.DataFrame(Y_train)\n",
    "print(y_im.shape)\n",
    "df_bos_train=pd.DataFrame(X_train)\n",
    "\n",
    "y_im = y_im.set_index(df_bos_train.index)\n",
    "\n",
    "df_bos_train['PRICE']= y_im\n",
    "\n",
    "print(\"% of NaN Before Imputation in Price:\",df_bos_train['PRICE'].isnull().sum()/len(df_bos_train['PRICE'])*100)"
   ]
  },
  {
   "cell_type": "code",
   "execution_count": 62,
   "metadata": {},
   "outputs": [
    {
     "name": "stdout",
     "output_type": "stream",
     "text": [
      "[[-1.16601442  0.78311899 -0.38964686  0.15909034 -1.41301526  2.85085949\n",
      "  -0.42103513 -2.66633114  2.12400799 -1.35946286 -2.02136277  1.01468639\n",
      "  -3.20448336]]\n",
      "[22.56010299]\n",
      "MEAN SQUARED ERROR = 30.582097707757402\n"
     ]
    }
   ],
   "source": [
    "#Function to sample the dataset randomly into equal batch size.\n",
    "from sklearn.metrics import mean_squared_error\n",
    "\n",
    "def random_sampling(dataset,batch_size):\n",
    "    data_rand=dataset.sample(batch_size)\n",
    "    x=np.array(data_rand.drop('PRICE',axis=1))\n",
    "    y=np.array(data_rand['PRICE'])\n",
    "    return x,y\n",
    "\n",
    "def sgd_manual_algo(bsize):\n",
    "    Wj,Bj,iteration,lr,k=np.zeros(shape=(1,13)),0,1000,0.01,len(X_train[:bsize])\n",
    "\n",
    "    while iteration >=0:\n",
    "        w0,b0,w_interm,b_interm=Wj,Bj,np.zeros(shape=(1,13)),0\n",
    "        \n",
    "        x,y =random_sampling(df_bos_train,bsize)\n",
    "        for i in range(k):\n",
    "            w_interm+=(-2)*x[i]*(y[i]-(np.dot(w0,x[i])+b0))\n",
    "            b_interm+=(-2)*(y[i]-(np.dot(w0,x[i])+b0))\n",
    "\n",
    "        Wj=(w0-lr*(w_interm)/k)\n",
    "        Bj=(b0-lr*(b_interm)/k)\n",
    "\n",
    "        iteration-=1\n",
    "\n",
    "    print(Wj)\n",
    "    print(Bj)\n",
    "    return Wj,Bj\n",
    " \n",
    "W,B = sgd_manual_algo(22)\n",
    "\n",
    "Y_pred_m=list()\n",
    "\n",
    "for i in range(len(X_test)):\n",
    "    Y_lr=np.dot(W,X_test[i])+B\n",
    "    Y_pred_m.append(np.asscalar(Y_lr))\n",
    "    \n",
    "MSE_custom=mean_squared_error(Y_test,Y_pred_m)\n",
    "print('MEAN SQUARED ERROR =',MSE_custom)"
   ]
  },
  {
   "cell_type": "code",
   "execution_count": 75,
   "metadata": {},
   "outputs": [
    {
     "data": {
      "image/png": "[encoded data removed]",
      "text/plain": [
       "<Figure size 720x504 with 1 Axes>"
      ]
     },
     "metadata": {},
     "output_type": "display_data"
    },
    {
     "name": "stdout",
     "output_type": "stream",
     "text": [
      "Mean Squared Error the custom SGD     :  30.582097707757402\n"
     ]
    }
   ],
   "source": [
    "#Plot a chart of predicted values Vs actual values of your own SGD Implementation\n",
    "plt.figure(figsize=(10,7))\n",
    "\n",
    "plt.scatter(Y_test,Y_pred_m)\n",
    "plt.xlabel('Actual values')\n",
    "plt.ylabel('predicted values ')\n",
    "plt.title('Actual values vs Predicted values')\n",
    "plt.show()\n",
    "print(\"Mean Squared Error the custom SGD     : \",MSE_custom)\n"
   ]
  },
  {
   "cell_type": "code",
   "execution_count": 71,
   "metadata": {},
   "outputs": [
    {
     "data": {
      "image/png": "[encoded data removed]",
      "text/plain": [
       "<Figure size 720x504 with 1 Axes>"
      ]
     },
     "metadata": {},
     "output_type": "display_data"
    },
    {
     "name": "stdout",
     "output_type": "stream",
     "text": [
      "Mean squared error = 30.689912969441917\n"
     ]
    }
   ],
   "source": [
    "#SGDRegresser of sklearn and plot the chart of predicted values Vs actual values\n",
    "from sklearn.linear_model import SGDRegressor\n",
    "\n",
    "sgd = SGDRegressor(penalty='none', max_iter=1000, learning_rate='constant' , eta0=0.0001  )\n",
    "sgd.fit(X_train,Y_train)\n",
    "Y_pred=sgd.predict(X_test)\n",
    "\n",
    "#Scatter plot of actual price vs predicted price\n",
    "plt.figure(figsize=(10,7))\n",
    "\n",
    "plt.scatter(Y_test,Y_pred)\n",
    "plt.xlabel('Actual price')\n",
    "plt.ylabel('Predictd price')\n",
    "plt.title('Actual price vs Predicted price')\n",
    "plt.show()\n",
    "\n",
    "\n",
    "MSE_sgd=mean_squared_error(Y_test,Y_pred)\n",
    "print('Mean squared error =',MSE_sgd)"
   ]
  },
  {
   "cell_type": "code",
   "execution_count": 74,
   "metadata": {},
   "outputs": [
    {
     "name": "stdout",
     "output_type": "stream",
     "text": [
      "+------+-----------------------+--------------------------+\n",
      "| S.no | Weights of Custom SGD | Weights of Sklearn's SGD |\n",
      "+------+-----------------------+--------------------------+\n",
      "|  1   |  -1.1660144162264967  |    -1.255475164871283    |\n",
      "|  2   |   0.7831189862160244  |    0.9140691833336709    |\n",
      "|  3   |  -0.38964686314143504 |   -0.2645425081647226    |\n",
      "|  4   |  0.15909033909056855  |   0.19811232771666826    |\n",
      "|  5   |  -1.4130152624250638  |   -1.4646937822450266    |\n",
      "|  6   |   2.850859491030371   |    2.818968932862803     |\n",
      "|  7   |  -0.4210351254196361  |   -0.31987389958733453   |\n",
      "|  8   |   -2.66633113520959   |   -2.7349512558795617    |\n",
      "|  9   |   2.124007991614841   |    2.500536938770618     |\n",
      "|  10  |  -1.3594628617304463  |   -1.8355481614508593    |\n",
      "|  11  |  -2.0213627682787423  |   -2.0813874474013043    |\n",
      "|  12  |   1.014686390452554   |    1.1446400415515714    |\n",
      "|  13  |  -3.2044833635961116  |    -3.275171805799498    |\n",
      "+------+-----------------------+--------------------------+\n"
     ]
    }
   ],
   "source": [
    "#In a tabular format,compare the weights obtained from your own \n",
    "#implementation with the weights obtained after applying sklearn's SGDRegresser.\n",
    "\n",
    "# Creating the table using PrettyTable library\n",
    "\n",
    "from prettytable import PrettyTable\n",
    "\n",
    "\n",
    "Serialno = [1,2,3,4,5,6,7,8,9,10,11,12,13]\n",
    "\n",
    "sgd_weights = sgd.coef_ \n",
    "table = PrettyTable()\n",
    "table.add_column(\"S.no\",Serialno)\n",
    "table.add_column(\"Weights of Custom SGD\",W.ravel())\n",
    "table.add_column(\"Weights of Sklearn's SGD\",sgd_weights)\n",
    "\n",
    "# Printing the Table\n",
    "print(table)"
   ]
  },
  {
   "cell_type": "code",
   "execution_count": 77,
   "metadata": {},
   "outputs": [
    {
     "data": {
      "image/png": "[encoded data removed]",
      "text/plain": [
       "<Figure size 720x504 with 1 Axes>"
      ]
     },
     "metadata": {},
     "output_type": "display_data"
    }
   ],
   "source": [
    "# Scatter Plot of the predictions of both manual SGD Regression and Sklearn's SGD Regression\n",
    "plt.figure(figsize=(10,7))\n",
    "\n",
    "plt.scatter(Y_pred_m, Y_pred)\n",
    "plt.xlabel(\"Pred Custom SGD\",size=20)\n",
    "plt.ylabel(\"Pred of Sklearn's SGD\",size=20)\n",
    "plt.title(\"Custom SGD VS Sklearn's SGD \",size=20)\n",
    "plt.show()"
   ]
  },
  {
   "cell_type": "code",
   "execution_count": 78,
   "metadata": {},
   "outputs": [
    {
     "name": "stdout",
     "output_type": "stream",
     "text": [
      "Mean Squared Error the custom SGD     :  30.582097707757402\n",
      "Mean Squared Error the Sklearn's  SGD :  30.689912969441917\n"
     ]
    }
   ],
   "source": [
    "# Mean Squared Error (MSE)\n",
    "print(\"Mean Squared Error the custom SGD     : \",MSE_custom)\n",
    "print(\"Mean Squared Error the Sklearn's  SGD : \",MSE_sgd)"
   ]
  },
  {
   "cell_type": "code",
   "execution_count": null,
   "metadata": {},
   "outputs": [],
   "source": []
  }
 ],
 "metadata": {
  "colab": {
   "name": "Untitled3.ipynb",
   "provenance": [],
   "version": "0.3.2"
  },
  "kernelspec": {
   "display_name": "Python 3",
   "language": "python",
   "name": "python3"
  },
  "language_info": {
   "codemirror_mode": {
    "name": "ipython",
    "version": 3
   },
   "file_extension": ".py",
   "mimetype": "text/x-python",
   "name": "python",
   "nbconvert_exporter": "python",
   "pygments_lexer": "ipython3",
   "version": "3.7.1"
  }
 },
 "nbformat": 4,
 "nbformat_minor": 1
}
